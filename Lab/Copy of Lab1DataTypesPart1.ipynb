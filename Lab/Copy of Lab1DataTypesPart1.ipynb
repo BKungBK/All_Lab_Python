{
 "cells": [
  {
   "cell_type": "markdown",
   "metadata": {
    "id": "DP7gStEZE4aw"
   },
   "source": [
    "1. จงประกาศตัวแปร x เก็บค่า 500 y เก็บค่าทศนิยม 2.56 และ z เก็บค่าข้อความ Python หลังจากนั้นใช้คำสั่ง print เพื่อแสดงค่าทั้งสามทางหน้าจอ โดยมีรูปแบบการแสดงผลดังนี้\n",
    "\n",
    "  Integer = 500\n",
    "\n",
    "  Floating point = 2.56\n",
    "\n",
    "  String = Chonmaphat"
   ]
  },
  {
   "cell_type": "code",
   "execution_count": 34,
   "metadata": {
    "colab": {
     "base_uri": "https://localhost:8080/"
    },
    "executionInfo": {
     "elapsed": 570,
     "status": "ok",
     "timestamp": 1721793714458,
     "user": {
      "displayName": "อัสนีย์ วงศ์สุวรรณ",
      "userId": "17230987932948500582"
     },
     "user_tz": -420
    },
    "id": "_W0HYY7vEs-w",
    "outputId": "3f27c7fe-a59b-46f6-9185-1d0b31a154f0"
   },
   "outputs": [
    {
     "name": "stdout",
     "output_type": "stream",
     "text": [
      "Integer = 500\n",
      "\n",
      "Floating point = 2.56\n",
      "\n",
      "String = Chonmaphat\n"
     ]
    }
   ],
   "source": [
    "x = 500\n",
    "y = 2.56\n",
    "z = \"Chonmaphat\"\n",
    "print(f\"\"\"Integer = {x}\n",
    "\n",
    "Floating point = {y}\n",
    "\n",
    "String = {z}\"\"\")"
   ]
  },
  {
   "cell_type": "markdown",
   "metadata": {
    "id": "aiKsEIS9EJZw"
   },
   "source": [
    "2. จากตัวแปรa และ bที่กำหนดให้ จงแก้ไขโปรแกรมเพื่อคำนวณผลลัพธ์การบวก ลบ คูณ และหาร แล้วแสดงผลลัพธ์ทางหน้าจอ"
   ]
  },
  {
   "cell_type": "code",
   "execution_count": 35,
   "metadata": {
    "colab": {
     "base_uri": "https://localhost:8080/"
    },
    "executionInfo": {
     "elapsed": 1,
     "status": "ok",
     "timestamp": 1721793717392,
     "user": {
      "displayName": "อัสนีย์ วงศ์สุวรรณ",
      "userId": "17230987932948500582"
     },
     "user_tz": -420
    },
    "id": "Iea71P-1C2HE",
    "outputId": "45b3f3ac-36ca-4ba4-b7fc-bfec97e5dc24"
   },
   "outputs": [
    {
     "name": "stdout",
     "output_type": "stream",
     "text": [
      "บวก :  13.14 \n",
      " ลบ :  6.859999999999999 \n",
      " คูณ :  31.400000000000002 \n",
      " หาร :  3.184713375796178\n"
     ]
    }
   ],
   "source": [
    "a = 10\n",
    "b = 3.14\n",
    "\n",
    "print(\"บวก : \", a + b,\"\\n ลบ : \", a - b,\"\\n คูณ : \", a * b,\"\\n หาร : \", a / b)"
   ]
  },
  {
   "cell_type": "markdown",
   "metadata": {
    "id": "w2NGEjycHN85"
   },
   "source": [
    "3. จากตัวแปรที่กำหนดให้ จงเขียนโปรแกรมเพื่อแปลง pi_str ให้เป็นชนิดจำนวนเต็ม และแปลง number_str ให้เป็นชนิด float หลังจากนั้นแสดงผลค่าทั้งสองหลังจากมีการแปลงชนิดแล้ว\n"
   ]
  },
  {
   "cell_type": "code",
   "execution_count": 36,
   "metadata": {
    "colab": {
     "base_uri": "https://localhost:8080/"
    },
    "executionInfo": {
     "elapsed": 550,
     "status": "ok",
     "timestamp": 1721793720477,
     "user": {
      "displayName": "อัสนีย์ วงศ์สุวรรณ",
      "userId": "17230987932948500582"
     },
     "user_tz": -420
    },
    "id": "7nUukYn9HdZW",
    "outputId": "cf962dd4-1abe-459e-93cd-0d30c60babf8"
   },
   "outputs": [
    {
     "name": "stdout",
     "output_type": "stream",
     "text": [
      "ตัวแปร pi_str : 3 Type :  <class 'int'>\n",
      "ตัวแปร pi_str : 10.25 Type :  <class 'float'>\n"
     ]
    }
   ],
   "source": [
    "pi_str = \"3.14159\"\n",
    "number_str = \"10.25\"\n",
    "\n",
    "pi_str = int(float(pi_str))\n",
    "number_str = float(number_str)\n",
    "print(f\"ตัวแปร pi_str : {pi_str} Type : \",type(pi_str))\n",
    "print(f\"ตัวแปร pi_str : {number_str} Type : \",type(number_str))"
   ]
  },
  {
   "cell_type": "markdown",
   "metadata": {
    "id": "bB8-rOWgH6pd"
   },
   "source": [
    "4. จากตัวแปรที่กำหนดให้ จงเขียนโปรแกรมเพื่อคำนวณและแสดง\n",
    "\n",
    "  ผลลัพธ์การหารแบบปัดเศษ(floor division)ของ c และ d\n",
    "\n",
    "  เศษของการหาร(remainder) ของ c และ d\n",
    "\n",
    "  ผลลัพธ์ของc ยกกำลัง d(power)"
   ]
  },
  {
   "cell_type": "code",
   "execution_count": 37,
   "metadata": {
    "colab": {
     "base_uri": "https://localhost:8080/"
    },
    "executionInfo": {
     "elapsed": 555,
     "status": "ok",
     "timestamp": 1721793723354,
     "user": {
      "displayName": "อัสนีย์ วงศ์สุวรรณ",
      "userId": "17230987932948500582"
     },
     "user_tz": -420
    },
    "id": "gDkEtpLBIoFe",
    "outputId": "3e427591-2895-47fd-af4b-ea44fef5a89a"
   },
   "outputs": [
    {
     "name": "stdout",
     "output_type": "stream",
     "text": [
      "หารแบบปัดเศษ :  4 \n",
      " เศษของการหาร :  1 \n",
      " ผลลัพธ์ของ c ยกกำลัง d :  4084101\n"
     ]
    }
   ],
   "source": [
    "c = 21\n",
    "d = 5\n",
    "\n",
    "print(f\"หารแบบปัดเศษ : \", c // d,\"\\n เศษของการหาร : \", c % d,\"\\n ผลลัพธ์ของ c ยกกำลัง d : \",c**d)"
   ]
  },
  {
   "cell_type": "markdown",
   "metadata": {
    "id": "_TdilgzQJmCl"
   },
   "source": [
    "5. เขียนโปรแกรมเพื่อคำนวณผลลัพธ์ของสมการ 9.25 * 10 - 5 + (3.5^2)/2"
   ]
  },
  {
   "cell_type": "code",
   "execution_count": 38,
   "metadata": {
    "colab": {
     "base_uri": "https://localhost:8080/"
    },
    "executionInfo": {
     "elapsed": 1031,
     "status": "ok",
     "timestamp": 1721793729345,
     "user": {
      "displayName": "อัสนีย์ วงศ์สุวรรณ",
      "userId": "17230987932948500582"
     },
     "user_tz": -420
    },
    "id": "tQe5wYPIJ4W4",
    "outputId": "550d232a-3ee6-4e9c-d6be-2295570df32e"
   },
   "outputs": [
    {
     "name": "stdout",
     "output_type": "stream",
     "text": [
      "93.625\n"
     ]
    }
   ],
   "source": [
    "print(9.25 * 10 - 5 + (3.5**2)/2)"
   ]
  },
  {
   "cell_type": "markdown",
   "metadata": {
    "id": "Tvm2ns-8HraY"
   },
   "source": [
    "6. จงประกาศตัวแปร name เก็บชื่อของนักศึกษา surname เก็บนามสกุลของนักศึกษา จากนั้นแสดงผลดังต่อไปนี้\n",
    "\n",
    "* แสดงชื่อของนักศึกษา 3 ครั้งโดยใช้เครื่องหมาย repetition\n",
    "* นำข้อความทั้งสองมาต่อกัน(concatenation)และแสดงผลออกทางหน้าจอ\n",
    "* แสดงเฉพาะพยัญชนะแรกของชื่อและนามสกุล(Slice)\n",
    "* แสดงผล 4 พยัญชนะแรกของชื่อและนามสกุล(Range Slice)\n",
    "\n",
    "ตัวอย่างการแสดงผล\n",
    "\n",
    "  ChonmaphatChonmaphatChonmaphat\n",
    "\n",
    "  ChonmaphatRoonnapak\n",
    "\n",
    "  CR\n",
    "\n",
    "  ChonRoon\n"
   ]
  },
  {
   "cell_type": "code",
   "execution_count": 39,
   "metadata": {
    "colab": {
     "base_uri": "https://localhost:8080/"
    },
    "executionInfo": {
     "elapsed": 540,
     "status": "ok",
     "timestamp": 1721793734382,
     "user": {
      "displayName": "อัสนีย์ วงศ์สุวรรณ",
      "userId": "17230987932948500582"
     },
     "user_tz": -420
    },
    "id": "1_KnlftVK3mS",
    "outputId": "5895f063-2f69-4cf1-ecd2-5b09b5ab3408"
   },
   "outputs": [
    {
     "name": "stdout",
     "output_type": "stream",
     "text": [
      "AssaneeAssaneeAssanee\n",
      "AssaneeWoungsuwan\n",
      "AW\n",
      "AssaWoun\n"
     ]
    }
   ],
   "source": [
    "name,surname = \"Assanee\",\"Woungsuwan\"\n",
    "\n",
    "print(name*3)\n",
    "print(name + surname)\n",
    "print(name[0:1] + surname[0:1])\n",
    "print(name[:4] + surname[:4])"
   ]
  },
  {
   "cell_type": "markdown",
   "metadata": {
    "id": "DdCY6ZzxKO0Y"
   },
   "source": [
    "7. จากตัวแปรที่กำหนดให้ต่อไปนี้\n",
    "จงเขียนโปรแกรมเพื่อนำค่าของตัวแปรมาแสดงผลในข้อความ3บรรทัด โดย\n",
    "\n",
    "* บรรทัดที่ 1 ใช้วิธีการ % operator\n",
    "\n",
    "* บรรทัดที่ 2 ใช้วิธีการ format()\n",
    "\n",
    "* บรรทัดที่ 3 ใช้วิธี F-string\n",
    "\n",
    "\n",
    "ตัวอย่างผลลัพธ์<br>\n",
    "1. James is 19 years old and he his GPA is 3.89.<br>\n",
    "2. James is 19 years old and he his GPA is 3.89.<br>\n",
    "3. James is 19 years old and he his GPA is 3.89."
   ]
  },
  {
   "cell_type": "code",
   "execution_count": 40,
   "metadata": {
    "colab": {
     "base_uri": "https://localhost:8080/"
    },
    "executionInfo": {
     "elapsed": 1,
     "status": "ok",
     "timestamp": 1721793737248,
     "user": {
      "displayName": "อัสนีย์ วงศ์สุวรรณ",
      "userId": "17230987932948500582"
     },
     "user_tz": -420
    },
    "id": "xURHX_hWMi57",
    "outputId": "55bc6f27-b023-4eb8-e073-72c449ce7380"
   },
   "outputs": [
    {
     "name": "stdout",
     "output_type": "stream",
     "text": [
      "James is 19 years old and he his GPA is 3.89.\n",
      "James is 19 years old and he his GPA is 3.89.\n",
      "James is 19 years old and he his GPA is 3.89.\n"
     ]
    }
   ],
   "source": [
    "nickname = 'James'\n",
    "gpa = 3.89\n",
    "age = 19\n",
    "\n",
    "print(\"%s is %i years old and he his GPA is %g.\"%(nickname,age,gpa))\n",
    "print(\"{} is {} years old and he his GPA is {}.\".format(nickname,age,gpa))\n",
    "print(f\"{nickname} is {age} years old and he his GPA is {gpa}.\")"
   ]
  },
  {
   "cell_type": "code",
   "execution_count": null,
   "metadata": {
    "id": "zD3VLg5452xm"
   },
   "outputs": [],
   "source": []
  }
 ],
 "metadata": {
  "colab": {
   "provenance": [
    {
     "file_id": "19EKMp1WdVAKUXwHVLH1wYyY9xGvaGwu3",
     "timestamp": 1721791717908
    }
   ]
  },
  "kernelspec": {
   "display_name": "env",
   "language": "python",
   "name": "python3"
  },
  "language_info": {
   "name": "python",
   "version": "3.13.1"
  }
 },
 "nbformat": 4,
 "nbformat_minor": 0
}
