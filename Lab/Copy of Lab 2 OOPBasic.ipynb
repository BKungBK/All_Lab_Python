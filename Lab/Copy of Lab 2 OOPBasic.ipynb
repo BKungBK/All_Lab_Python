{
 "cells": [
  {
   "cell_type": "markdown",
   "metadata": {
    "id": "I2rOTu2UsRmA"
   },
   "source": [
    "# Object-Oriented Programming Basics\n",
    "Objective:\n",
    "\n",
    "\n",
    "\n",
    "1. Understand the concepts of classes, objects, and methods.\n",
    "2. Practice defining and using classes and methods in Python.\n",
    "3. Learn how to manipulate object attributes and use constructors.\n",
    "\n",
    "\n",
    "\n",
    "\n",
    "\n",
    "\n",
    "\n"
   ]
  },
  {
   "cell_type": "markdown",
   "metadata": {
    "id": "ck1I_o9rs11X"
   },
   "source": [
    "# Creating a Simple Class\n",
    "\n",
    "\n",
    "\n",
    "1. Create a class **Book** with the following attributes:\n",
    "\n",
    "  * title\n",
    "  * author\n",
    "  * price\n",
    "\n",
    "2. Add a constructor __init __ that initializes its attributes.\n",
    "3. Add a method `display_info` to print the book's details.\n",
    "4. Add a method `discount` which reduce the price of the book by the given percentage and display the new price.\n",
    "\n",
    "# Testing\n",
    "\n",
    "1. Create an object of the Book class and call the `display_info()` method.\n",
    "2. Test `discount` method with different discount percentages.\n",
    "\n"
   ]
  },
  {
   "cell_type": "markdown",
   "metadata": {
    "id": "YrwwJMwzyKNG"
   },
   "source": [
    "# Combining Classes\n",
    "1. Create another class Library with attributes:\n",
    "\n",
    "  * Library name (name)\n",
    "  * A list to store Book objects (books)\n",
    "\n",
    "2. Add methods to:\n",
    "\n",
    "  * Add a book to the library (`addBook`)\n",
    "  * Display all books in the library (`displayBooks`)\n",
    "\n",
    "3. Create a Library object, add multiple Book objects to it, and display the details of all books.\n",
    "\n",
    "# Challenge (optional)\n",
    "1. Add method `getBook` to search and return the book of given name\n",
    "2. Use `getBook` to get one of your book in the library then discount the price by 50%\n"
   ]
  },
  {
   "cell_type": "code",
   "execution_count": 62,
   "metadata": {
    "colab": {
     "base_uri": "https://localhost:8080/"
    },
    "executionInfo": {
     "elapsed": 822,
     "status": "ok",
     "timestamp": 1735188213752,
     "user": {
      "displayName": "อัสนีย์ วงศ์สุวรรณ",
      "userId": "17230987932948500582"
     },
     "user_tz": -420
    },
    "id": "CnE9I0XK9_Vh",
    "outputId": "e7c67c0f-0be2-4223-beaa-6be5ed74e719"
   },
   "outputs": [
    {
     "name": "stdout",
     "output_type": "stream",
     "text": [
      "\n",
      "========= เพิ่มหนังสือ =========\n",
      "\n",
      "============================\n",
      "title : Skibidi \n",
      "author : Skibidi\n",
      "price : 13826 บาท\n",
      "============================\n",
      "\n",
      "\n",
      "========= เพิ่มหนังสือ =========\n",
      "\n",
      "============================\n",
      "title : Water \n",
      "author : Water\n",
      "price : 25570 บาท\n",
      "============================\n",
      "\n",
      "\n",
      "========= เพิ่มหนังสือ =========\n",
      "\n",
      "============================\n",
      "title : BIGMAMA \n",
      "author : BIGMAMA\n",
      "price : 14455 บาท\n",
      "============================\n",
      "\n",
      "\n",
      "========= เพิ่มหนังสือ =========\n",
      "\n",
      "============================\n",
      "title : SK \n",
      "author : SK\n",
      "price : 25404 บาท\n",
      "============================\n",
      "\n",
      "============= หนังสือทั้งหมด =============\n",
      "\n",
      "============================\n",
      "title : Skibidi \n",
      "author : Skibidi\n",
      "price : 13826 บาท\n",
      "============================\n",
      "\n",
      "\n",
      "============================\n",
      "title : Water \n",
      "author : Water\n",
      "price : 25570 บาท\n",
      "============================\n",
      "\n",
      "\n",
      "============================\n",
      "title : BIGMAMA \n",
      "author : BIGMAMA\n",
      "price : 14455 บาท\n",
      "============================\n",
      "\n",
      "\n",
      "============================\n",
      "title : SK \n",
      "author : SK\n",
      "price : 25404 บาท\n",
      "============================\n",
      "\n",
      "=======================================\n",
      "\n",
      "========= ค้นหาหนังสือ =========\n",
      "\n",
      "============================\n",
      "title : BIGMAMA \n",
      "author : BIGMAMA\n",
      "price : 14455 บาท\n",
      "============================\n",
      "\n",
      "* ซื้อวันนี้ลด 50%!!!!\n",
      "หากซื้อจะลดไป 7228 บาท เหลือ 7227 บาท\n",
      "\n",
      "========= ค้นหาหนังสือ =========\n",
      "\n",
      "XXXXXXXX ไม่พบหนังสือที่คุณหา XXXXXXXX\n",
      "\n"
     ]
    }
   ],
   "source": [
    "import random\n",
    "\n",
    "class Book():\n",
    "  def __init__(self, title, author, price):\n",
    "    self.title = title\n",
    "    self.author = author\n",
    "    self.price = price\n",
    "\n",
    "  def display_info(self):\n",
    "    print(f\"\\n============================\\ntitle : {self.title} \\nauthor : {self.author}\\nprice : {self.price} บาท\\n============================\\n\")\n",
    "\n",
    "  def discount(self, count):\n",
    "    price_old = self.price\n",
    "    self.price = int(self.price * (100 - count) / 100)\n",
    "    print(f\"ลดไป {price_old - self.price} บาท เหลือ {self.price} บาท\")\n",
    "    price_old = 0\n",
    "\n",
    "class Library():\n",
    "  def __init__(self, name):\n",
    "    self.name = \"\"\n",
    "    self.books = []\n",
    "\n",
    "  def addBook(self, book):\n",
    "    self.books.append(book)\n",
    "    print(\"\\n========= เพิ่มหนังสือ =========\")\n",
    "    book.display_info()\n",
    "\n",
    "  def displayBooks(self):\n",
    "    print(\"============= หนังสือทั้งหมด =============\")\n",
    "    for i in range(len(self.books)):\n",
    "      self.books[i].display_info()\n",
    "    print(\"=======================================\")\n",
    "\n",
    "  def getBooks(self, name):\n",
    "    print(f\"\\n========= ค้นหาหนังสือ =========\")\n",
    "    for i in range(len(self.books)):\n",
    "      if self.books[i].title == name:\n",
    "        self.books[i].display_info()\n",
    "        print(\"* ซื้อวันนี้ลด 50%!!!!\\nหากซื้อจะ\",end=\"\")\n",
    "        self.books[i].discount(50)\n",
    "        return\n",
    "    print(\"\\nXXXXXXXX ไม่พบหนังสือที่คุณหา XXXXXXXX\\n\")\n",
    "\n",
    "l = Library(\"Li\")\n",
    "\n",
    "def TestCode():\n",
    "  titles = [\"Skibidi\", \"Water\", \"BIGMAMA\", \"SK\"]\n",
    "  authors = [\"BK\", \"MAMA\", \"BKung\", \"SK\"]\n",
    "  for i in range(4):\n",
    "    title = titles[i]\n",
    "    author = titles[i]\n",
    "    price = random.randint(100, 50000)\n",
    "    i = Book(title, author, price)\n",
    "    l.addBook(i)\n",
    "\n",
    "TestCode()\n",
    "l.displayBooks()\n",
    "l.getBooks(\"BIGMAMA\")\n",
    "l.getBooks(\"BIGMAฟหกMA\")"
   ]
  }
 ],
 "metadata": {
  "colab": {
   "provenance": [
    {
     "file_id": "1o-_cloSsfJY9goRBrvqOApeK0wagOeed",
     "timestamp": 1735183127525
    },
    {
     "file_id": "1BynsmgExHJhjETViKm9Lyny0GkrTUlb_",
     "timestamp": 1735110760285
    }
   ]
  },
  "kernelspec": {
   "display_name": "env",
   "language": "python",
   "name": "python3"
  },
  "language_info": {
   "name": "python",
   "version": "3.13.1"
  }
 },
 "nbformat": 4,
 "nbformat_minor": 0
}
