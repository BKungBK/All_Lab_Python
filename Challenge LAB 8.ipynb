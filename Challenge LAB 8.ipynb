{
 "cells": [
  {
   "cell_type": "markdown",
   "metadata": {},
   "source": [
    "# Final Challenge: ระบบจัดการร้านค้า\n",
    "\n",
    "จงออกแบบและสร้างคลาสสำหรับสินค้าในร้านค้าสามประเภท Electronics Clothing และ Grocery โดยใช้หลักการ Inheritance\n",
    "1. สินค้าประเภท Electronics จะมี หมายเลขSerialNumber ชื่อ ราคา ประเภทอุปกรณ์และจำนวนวันรับประกันหลังการซื้อ\n",
    "2. สินค้าประเภท Clothing จะมี Serial Number ชื่อ ราคา ขนาด และ แบรนด์\n",
    "3. สินค้าประเภท Grocery จะมี Serial Number ชื่อ ราคา และวันหมดอายุ\n",
    "\n",
    "สร้างคลาสระบบจัดการร้านค้า Store โดยในร้านค้าจะประกอบไปด้วยรายการสินค้าทั้งหมด โดยผู้ดูแลร้านสามารถ\n",
    "\n",
    "*   เพิ่มสินค้าได้โดย Serial Number ของสินค้าใหม่ ห้ามซ้ำกับสินค้าเดิมในร้าน\n",
    "*   แสดงผลรายละเอียดสินค้าทั้งหมดในร้านได้\n",
    "*   ลดราคาสินค้าในร้านได้ ตามประเภทของสินค้า ตามจำนวน % ที่กำหนด เช่น ลดราคาเสื้อผ้าทั้งหมด 30%\n"
   ]
  },
  {
   "cell_type": "markdown",
   "metadata": {},
   "source": [
    "# Main Code"
   ]
  },
  {
   "cell_type": "code",
   "execution_count": null,
   "metadata": {},
   "outputs": [],
   "source": [
    "import random\n",
    "import datetime\n",
    "from rich.console import Console\n",
    "from rich.text import Text\n",
    "\n",
    "class TUI:\n",
    "    def __init__(self):\n",
    "        #FFE5E5 ┏┓\n",
    "        self.console = Console()\n",
    "        self.normal_banner_top     = \"[#F6F7C4]┏━━━━━━━━━━━━[/#F6F7C4][#FBFBFB]•✦•❅•✦•[/#FBFBFB][#F6F7C4]━━━━━━━━━━━━┓[/#F6F7C4]\\n\"\n",
    "        self.normal_banner_down    = \"[#F6F7C4]┗━━━━━━━━━━[/#F6F7C4][#FBFBFB]•❅•°•❈•°•❅•[/#FBFBFB][#F6F7C4]━━━━━━━━━━┛[/#F6F7C4]\"\n",
    "        self.warning_banner_top    = \"[#9F5255]═════════•°•[/#9F5255] [bold #F39E60]⚠[/bold #F39E60] [#9F5255]•°•═════════[/#9F5255]\"\n",
    "        self.warning_banner_down   = \"[#9F5255]════════════════════════════[/#9F5255]\"\n",
    "    \n",
    "    def warning(self, message):\n",
    "        self.console.print(f\"{self.warning_banner_top}\\n [bold #FBFBFB]/)/)\\n( . .)\\n( づ[/bold #FBFBFB] [bold #FF8A8A]{message}[/bold #FF8A8A]\\n{self.warning_banner_down}\")\n",
    "        \n",
    "    def normal(self, message, value_message, return_value=False):\n",
    "        all_messages = \"\"\n",
    "        for index, m in enumerate(message):\n",
    "            if m == \"Price\":\n",
    "                value_message[index] = str(value_message[index]) + \" ฿\"\n",
    "            all_messages += f\" [bold #FBFBFB]|[/bold #FBFBFB] [#A1EEBD]{m:<14}[/#A1EEBD] : [#FBFBFB]{value_message[index]}[/#FBFBFB]\\n\"\n",
    "        if return_value:\n",
    "            return all_messages\n",
    "        self.console.print(f\"{self.normal_banner_top}\\n{all_messages}\\n{self.normal_banner_down}\")\n",
    "        return \"\"\n",
    "    \n",
    "    def discount_display(self, code_discount, all_category):\n",
    "        self.console.print(\"[#F6F7C4]┏━━━━━━━━━━━━━━━━━━━━━━━━[/#F6F7C4][#FBFBFB]•✦•❅•✦•[/#FBFBFB][#F6F7C4]━━━━━━━━━━━━━━━━━━━━━━━━┓[/#F6F7C4]\\n\")\n",
    "        all_messages = \"\"\n",
    "        for category, discount in all_category.items():\n",
    "            all_messages += f'[bold #FBFBFB]คุณได้ใช้ส่วนลด[/bold #FBFBFB] [bold #F6F7C4]{code_discount}[/bold #F6F7C4] [bold #FBFBFB]สำหรับ[/bold #FBFBFB] [bold #F6F7C4]{category:<13}[/bold #F6F7C4] [bold #FBFBFB]ลดราคา[/bold #FBFBFB] [bold #F6F7C4]{discount} %[/bold #F6F7C4] [bold #FBFBFB]เรียบร้อย[/bold #FBFBFB]!\\n'.center(40)\n",
    "        \n",
    "        self.console.print(f\"{all_messages}\")\n",
    "        self.console.print(\"[#F6F7C4]┗━━━━━━━━━━━━━━━━━━━━━━[/#F6F7C4][#FBFBFB]•❅•°•❈•°•❅•[/#FBFBFB][#F6F7C4]━━━━━━━━━━━━━━━━━━━━━━┛[/#F6F7C4]\")\n",
    "        \n",
    "class Product:\n",
    "    def __init__(self, serial_number, name, price):\n",
    "        self.__serial_number = serial_number\n",
    "        self.__name = name\n",
    "        self.__price = price\n",
    "        \n",
    "    def get_serial_number(self):\n",
    "        return self.__serial_number\n",
    "    \n",
    "    def get_name(self):\n",
    "        return self.__name\n",
    "    \n",
    "    def get_price(self):\n",
    "        return self.__price\n",
    "    \n",
    "    def set_serial_number(self, serial_number):\n",
    "        try:\n",
    "            self.__serial_number = int(serial_number)\n",
    "        except ValueError:\n",
    "            TUI().warning(\"Invalid serial number\")\n",
    "            return\n",
    "        \n",
    "    def set_name(self, name):\n",
    "        self.__name = str(name)\n",
    "        \n",
    "    def set_price(self, price):\n",
    "        try:\n",
    "            self.__price = float(price)\n",
    "        except ValueError:\n",
    "            TUI().warning(\"Invalid price\")\n",
    "            return\n",
    "        \n",
    "    def __str__(self):\n",
    "        return TUI().normal([\"Name\", \"Price\", \"Serial number\"], [self.__name, self.__price,self.__serial_number])\n",
    "    \n",
    "class Electronics(Product):\n",
    "    def __init__(self, serial_number, name, price, product_type, date):\n",
    "        super().__init__(serial_number, name, price)\n",
    "        self.__product_type = product_type\n",
    "        try:\n",
    "             self.__date = datetime.datetime.strptime(str(date), \"%d-%m-%Y\").date()\n",
    "        except ValueError:\n",
    "            self.__date = datetime.datetime.now().strftime(\"%d/%m/%Y\").date()\n",
    "            TUI().warning(\"Invalid date\")\n",
    "        \n",
    "    def get_product_type(self):\n",
    "        return self.__product_type\n",
    "    \n",
    "    def get_date(self): \n",
    "        return self.__date\n",
    "\n",
    "    def set_product_type(self, product_type):\n",
    "        self.__product_type = str(product_type)\n",
    "    \n",
    "    def set_date(self, date):\n",
    "        try:\n",
    "            date = datetime.strptime(str(date), \"%d/%m/%Y\")\n",
    "            self.__date = date\n",
    "        except ValueError:\n",
    "            TUI().warning(\"Invalid date\")\n",
    "            return\n",
    "        \n",
    "    def __str__(self):\n",
    "        return TUI().normal([\"Name\", \"Price\", \"Type\", \"Serial number\"], [self.get_name(), self.get_price(), self.__product_type, self.get_serial_number()])\n",
    "    \n",
    "class Clothing(Product):\n",
    "    def __init__(self, serial_number, name, price, size, brand):\n",
    "        super().__init__(serial_number, name, price)\n",
    "        self.__size = size\n",
    "        self.__brand = brand\n",
    "        \n",
    "    def get_size(self):\n",
    "        return self.__size\n",
    "    \n",
    "    def get_brand(self):\n",
    "        return self.__brand\n",
    "    \n",
    "    def set_size(self, size):\n",
    "        if str(size) in [\"XXS\", \"XS\", \"S\", \"M\", \"L\", \"XL\", \"XXL\", \"XXXL\", \"4XL\", \"5XL\"]:\n",
    "            self.__size = size\n",
    "        else:\n",
    "            TUI().warning(\"Invalid size\")\n",
    "            return\n",
    "        \n",
    "    def set_brand(self, brand):\n",
    "        self.__brand = str(brand)\n",
    "        \n",
    "    def __str__(self):\n",
    "        return TUI().normal([\"Brand\", \"Name\", \"Price\", \"Size\", \"Serial number\"], [self.__brand, self.get_name(), self.get_price(), self.__size, self.get_serial_number()])\n",
    "        \n",
    "class Grocery(Product):\n",
    "    def __init__(self, serial_number, name, price, expiration_date):\n",
    "        super().__init__(serial_number, name, price)\n",
    "        try:\n",
    "            self.__expiration_date = datetime.datetime.strptime(str(expiration_date), \"%d-%m-%Y\").date()\n",
    "        except ValueError:\n",
    "            self.__expiration_date = datetime.datetime.now().strftime(\"%d/%m/%Y\").date()\n",
    "            TUI().warning(\"Invalid date\")\n",
    "            \n",
    "    def get_expiration_date(self):\n",
    "        return self.__expiration_date\n",
    "    \n",
    "    def set_expiration_date(self, expiration_date):\n",
    "        try:\n",
    "            self.__expiration_date = datetime.datetime.strptime(str(expiration_date), \"%d/%m/%Y\").date()\n",
    "        except ValueError:\n",
    "            TUI().warning(\"Invalid date\")\n",
    "            \n",
    "    def __str__(self):\n",
    "        return TUI().normal([\"Name\", \"Price\", \"EXD\", \"Serial number\"], [self.get_name(), self.get_price(), self.__expiration_date, self.get_serial_number()])\n",
    "    \n",
    "class Store:\n",
    "    def __init__(self, products={}):\n",
    "        self.__products = products\n",
    "        \n",
    "    def get_products(self):\n",
    "        return self.__products\n",
    "    \n",
    "    def set_products(self, products):\n",
    "        try:\n",
    "            self.__products = dict(products)\n",
    "        except ValueError:\n",
    "            TUI().warning(\"Invalid products\")\n",
    "            return\n",
    "        \n",
    "    def add_product(self, product):\n",
    "        if product.get_serial_number() in self.__products:\n",
    "            TUI().warning(\"Product already exists\")\n",
    "            return\n",
    "        else:\n",
    "            self.__products.update({product.get_serial_number(): product})\n",
    "            Console().print(f\"\\n [bold #FBFBFB]/)/)\\n( . .)\\n( づ[/bold #FBFBFB] [bold #A1EEBD]Product[/bold #A1EEBD] [bold #FBFBFB]has been added successfully[/bold #FBFBFB]!\\n[#A1EEBD]{product.get_serial_number()}[/#A1EEBD]\")\n",
    "        \n",
    "    def show_products(self):\n",
    "        __e = []\n",
    "        __c = []\n",
    "        __g = []\n",
    "        dict_products = {\"Electronics\":__e, \"Clothing\":__c, \"Grocery\":__g}\n",
    "        for product in self.__products.values():\n",
    "            if isinstance(product, Electronics):\n",
    "                __e.append(\"\\n\"+TUI().normal([\"Name\", \"Price\", \"Type\", \"Serial number\"], [product.get_name(), product.get_price(), product.get_product_type(), product.get_serial_number()], True))\n",
    "            elif isinstance(product, Clothing):\n",
    "                __c.append(\"\\n\"+TUI().normal([\"Brand\", \"Name\", \"Price\", \"Size\", \"Serial number\"], [product.get_brand(), product.get_name(), product.get_price(), product.get_size(), product.get_serial_number()], True))\n",
    "            elif isinstance(product, Grocery):\n",
    "                __g.append(\"\\n\"+TUI().normal([\"Name\", \"Price\", \"EXD\", \"Serial number\"], [product.get_name(), product.get_price(), product.get_expiration_date(), product.get_serial_number()], True))\n",
    "        Console().print(\"[#F6F7C4] Products [/#F6F7C4][#FBFBFB]▰▱▰▱▰▱▰▱▰▱▰▱▰▱▰▱▰▱▰▱▰▱▰▱▰▱▰▱▰▱▰▱▰▱[/#FBFBFB][#F6F7C4] Products [/#F6F7C4]\")\n",
    "        for i in dict_products:\n",
    "            #▰▱▰▱▰▱▰▱▰▱▰▱▰▱▰▱▰▱▰▱▰▱▰▱▰▱▰▱▰▱▰▱▰▱\n",
    "            Console().print(\"[#F6F7C4]┏━━━━━━━━━━━━[/#F6F7C4][#FBFBFB]•✦•❅•✦•[/#FBFBFB][#F6F7C4]━━━━━━━━━━━━┓[/#F6F7C4]\")\n",
    "            Console().print(f\" [bold #FBFBFB]/)/)\\n( . .)\\n( づ[/bold #FBFBFB]\"+f\" [#B7B1F2]♡⑅*˖•.[/#B7B1F2] [bold #FDB7EA]{i}[/bold #FDB7EA] [#B7B1F2].•˖*⑅♡[/#B7B1F2]\".center(30)+f\"\\n{''.join(dict_products[i])}\")\n",
    "        Console().print(\"[#F6F7C4]┗━━━━━━━━━━[/#F6F7C4][#FBFBFB]•❅•°•❈•°•❅•[/#FBFBFB][#F6F7C4]━━━━━━━━━━┛[/#F6F7C4]\")\n",
    "        Console().print(\"[#F6F7C4] Products [/#F6F7C4][#FBFBFB]▰▱▰▱▰▱▰▱▰▱▰▱▰▱▰▱▰▱▰▱▰▱▰▱▰▱▰▱▰▱▰▱▰▱[/#FBFBFB][#F6F7C4] Products [/#F6F7C4]\")\n",
    "            \n",
    "    def cal_discount(self, category, discount):\n",
    "        for product in self.__products.values():\n",
    "            if isinstance(product, category):\n",
    "                product.set_price(product.get_price() * (1 - discount / 100))\n",
    "    \n",
    "    #ผมทำเป็น code ส่วนลดนะครับจะได้ง่ายต่อการใช้งาน\n",
    "    def discount(self, code_discount):\n",
    "        discounts = [\n",
    "            {\"code\": \"XXX\", \"category\": {\"Electronics\": 50, \"Clothing\" : 50, \"Grocery\" : 20}},\n",
    "            {\"code\": \"BK\", \"category\": {\"Electronics\": 100, \"Clothing\" : 20, \"Grocery\" : 25}},\n",
    "            {\"code\": \"BKUNG\", \"category\": {\"Electronics\": 60, \"Clothing\" : 10, \"Grocery\" : 20}},\n",
    "            {\"code\": \"SASA\", \"category\": {\"Clothing\" : 50, \"Grocery\" : 20}},\n",
    "            {\"code\": \"GSZA\", \"category\": {\"Grocery\" : 100}},\n",
    "            {\"code\": \"OPSA\", \"category\": {\"Electronics\": 100}}\n",
    "        ]\n",
    "        for discount in discounts:\n",
    "            if str(code_discount) == discount[\"code\"]:  \n",
    "                if \"Electronics\" in discount[\"category\"]:    \n",
    "                    self.cal_discount(Electronics, discount[\"category\"][\"Electronics\"])\n",
    "                if \"Clothing\" in discount[\"category\"]:\n",
    "                    self.cal_discount(Clothing, discount[\"category\"][\"Clothing\"])\n",
    "                if \"Grocery\" in discount[\"category\"]:\n",
    "                    self.cal_discount(Grocery, discount[\"category\"][\"Grocery\"])\n",
    "                TUI().discount_display(discount[\"code\"], discount[\"category\"])\n",
    "            "
   ]
  },
  {
   "cell_type": "markdown",
   "metadata": {},
   "source": [
    "# Code Test"
   ]
  },
  {
   "cell_type": "code",
   "execution_count": 27,
   "metadata": {},
   "outputs": [
    {
     "data": {
      "text/html": [
       "<pre style=\"white-space:pre;overflow-x:auto;line-height:normal;font-family:Menlo,'DejaVu Sans Mono',consolas,'Courier New',monospace\">\n",
       " <span style=\"color: #fbfbfb; text-decoration-color: #fbfbfb; font-weight: bold\">/)/)</span>\n",
       "<span style=\"color: #fbfbfb; text-decoration-color: #fbfbfb; font-weight: bold\">( . .)</span>\n",
       "<span style=\"color: #fbfbfb; text-decoration-color: #fbfbfb; font-weight: bold\">( づ</span> <span style=\"color: #a1eebd; text-decoration-color: #a1eebd; font-weight: bold\">Product</span> <span style=\"color: #fbfbfb; text-decoration-color: #fbfbfb; font-weight: bold\">has been added successfully</span>!\n",
       "<span style=\"color: #a1eebd; text-decoration-color: #a1eebd; font-weight: bold\">3263</span>\n",
       "</pre>\n"
      ],
      "text/plain": [
       "\n",
       " \u001b[1;38;2;251;251;251m/\u001b[0m\u001b[1;38;2;251;251;251m)\u001b[0m\u001b[1;38;2;251;251;251m/\u001b[0m\u001b[1;38;2;251;251;251m)\u001b[0m\n",
       "\u001b[1;38;2;251;251;251m(\u001b[0m\u001b[1;38;2;251;251;251m . .\u001b[0m\u001b[1;38;2;251;251;251m)\u001b[0m\n",
       "\u001b[1;38;2;251;251;251m(\u001b[0m\u001b[1;38;2;251;251;251m づ\u001b[0m \u001b[1;38;2;161;238;189mProduct\u001b[0m \u001b[1;38;2;251;251;251mhas been added successfully\u001b[0m!\n",
       "\u001b[1;38;2;161;238;189m3263\u001b[0m\n"
      ]
     },
     "metadata": {},
     "output_type": "display_data"
    },
    {
     "data": {
      "text/html": [
       "<pre style=\"white-space:pre;overflow-x:auto;line-height:normal;font-family:Menlo,'DejaVu Sans Mono',consolas,'Courier New',monospace\">\n",
       " <span style=\"color: #fbfbfb; text-decoration-color: #fbfbfb; font-weight: bold\">/)/)</span>\n",
       "<span style=\"color: #fbfbfb; text-decoration-color: #fbfbfb; font-weight: bold\">( . .)</span>\n",
       "<span style=\"color: #fbfbfb; text-decoration-color: #fbfbfb; font-weight: bold\">( づ</span> <span style=\"color: #a1eebd; text-decoration-color: #a1eebd; font-weight: bold\">Product</span> <span style=\"color: #fbfbfb; text-decoration-color: #fbfbfb; font-weight: bold\">has been added successfully</span>!\n",
       "<span style=\"color: #a1eebd; text-decoration-color: #a1eebd; font-weight: bold\">2650</span>\n",
       "</pre>\n"
      ],
      "text/plain": [
       "\n",
       " \u001b[1;38;2;251;251;251m/\u001b[0m\u001b[1;38;2;251;251;251m)\u001b[0m\u001b[1;38;2;251;251;251m/\u001b[0m\u001b[1;38;2;251;251;251m)\u001b[0m\n",
       "\u001b[1;38;2;251;251;251m(\u001b[0m\u001b[1;38;2;251;251;251m . .\u001b[0m\u001b[1;38;2;251;251;251m)\u001b[0m\n",
       "\u001b[1;38;2;251;251;251m(\u001b[0m\u001b[1;38;2;251;251;251m づ\u001b[0m \u001b[1;38;2;161;238;189mProduct\u001b[0m \u001b[1;38;2;251;251;251mhas been added successfully\u001b[0m!\n",
       "\u001b[1;38;2;161;238;189m2650\u001b[0m\n"
      ]
     },
     "metadata": {},
     "output_type": "display_data"
    },
    {
     "data": {
      "text/html": [
       "<pre style=\"white-space:pre;overflow-x:auto;line-height:normal;font-family:Menlo,'DejaVu Sans Mono',consolas,'Courier New',monospace\">\n",
       " <span style=\"color: #fbfbfb; text-decoration-color: #fbfbfb; font-weight: bold\">/)/)</span>\n",
       "<span style=\"color: #fbfbfb; text-decoration-color: #fbfbfb; font-weight: bold\">( . .)</span>\n",
       "<span style=\"color: #fbfbfb; text-decoration-color: #fbfbfb; font-weight: bold\">( づ</span> <span style=\"color: #a1eebd; text-decoration-color: #a1eebd; font-weight: bold\">Product</span> <span style=\"color: #fbfbfb; text-decoration-color: #fbfbfb; font-weight: bold\">has been added successfully</span>!\n",
       "<span style=\"color: #a1eebd; text-decoration-color: #a1eebd; font-weight: bold\">5373</span>\n",
       "</pre>\n"
      ],
      "text/plain": [
       "\n",
       " \u001b[1;38;2;251;251;251m/\u001b[0m\u001b[1;38;2;251;251;251m)\u001b[0m\u001b[1;38;2;251;251;251m/\u001b[0m\u001b[1;38;2;251;251;251m)\u001b[0m\n",
       "\u001b[1;38;2;251;251;251m(\u001b[0m\u001b[1;38;2;251;251;251m . .\u001b[0m\u001b[1;38;2;251;251;251m)\u001b[0m\n",
       "\u001b[1;38;2;251;251;251m(\u001b[0m\u001b[1;38;2;251;251;251m づ\u001b[0m \u001b[1;38;2;161;238;189mProduct\u001b[0m \u001b[1;38;2;251;251;251mhas been added successfully\u001b[0m!\n",
       "\u001b[1;38;2;161;238;189m5373\u001b[0m\n"
      ]
     },
     "metadata": {},
     "output_type": "display_data"
    },
    {
     "data": {
      "text/html": [
       "<pre style=\"white-space:pre;overflow-x:auto;line-height:normal;font-family:Menlo,'DejaVu Sans Mono',consolas,'Courier New',monospace\">\n",
       " <span style=\"color: #fbfbfb; text-decoration-color: #fbfbfb; font-weight: bold\">/)/)</span>\n",
       "<span style=\"color: #fbfbfb; text-decoration-color: #fbfbfb; font-weight: bold\">( . .)</span>\n",
       "<span style=\"color: #fbfbfb; text-decoration-color: #fbfbfb; font-weight: bold\">( づ</span> <span style=\"color: #a1eebd; text-decoration-color: #a1eebd; font-weight: bold\">Product</span> <span style=\"color: #fbfbfb; text-decoration-color: #fbfbfb; font-weight: bold\">has been added successfully</span>!\n",
       "<span style=\"color: #a1eebd; text-decoration-color: #a1eebd; font-weight: bold\">2982</span>\n",
       "</pre>\n"
      ],
      "text/plain": [
       "\n",
       " \u001b[1;38;2;251;251;251m/\u001b[0m\u001b[1;38;2;251;251;251m)\u001b[0m\u001b[1;38;2;251;251;251m/\u001b[0m\u001b[1;38;2;251;251;251m)\u001b[0m\n",
       "\u001b[1;38;2;251;251;251m(\u001b[0m\u001b[1;38;2;251;251;251m . .\u001b[0m\u001b[1;38;2;251;251;251m)\u001b[0m\n",
       "\u001b[1;38;2;251;251;251m(\u001b[0m\u001b[1;38;2;251;251;251m づ\u001b[0m \u001b[1;38;2;161;238;189mProduct\u001b[0m \u001b[1;38;2;251;251;251mhas been added successfully\u001b[0m!\n",
       "\u001b[1;38;2;161;238;189m2982\u001b[0m\n"
      ]
     },
     "metadata": {},
     "output_type": "display_data"
    },
    {
     "data": {
      "text/html": [
       "<pre style=\"white-space:pre;overflow-x:auto;line-height:normal;font-family:Menlo,'DejaVu Sans Mono',consolas,'Courier New',monospace\">\n",
       " <span style=\"color: #fbfbfb; text-decoration-color: #fbfbfb; font-weight: bold\">/)/)</span>\n",
       "<span style=\"color: #fbfbfb; text-decoration-color: #fbfbfb; font-weight: bold\">( . .)</span>\n",
       "<span style=\"color: #fbfbfb; text-decoration-color: #fbfbfb; font-weight: bold\">( づ</span> <span style=\"color: #a1eebd; text-decoration-color: #a1eebd; font-weight: bold\">Product</span> <span style=\"color: #fbfbfb; text-decoration-color: #fbfbfb; font-weight: bold\">has been added successfully</span>!\n",
       "<span style=\"color: #a1eebd; text-decoration-color: #a1eebd; font-weight: bold\">8580</span>\n",
       "</pre>\n"
      ],
      "text/plain": [
       "\n",
       " \u001b[1;38;2;251;251;251m/\u001b[0m\u001b[1;38;2;251;251;251m)\u001b[0m\u001b[1;38;2;251;251;251m/\u001b[0m\u001b[1;38;2;251;251;251m)\u001b[0m\n",
       "\u001b[1;38;2;251;251;251m(\u001b[0m\u001b[1;38;2;251;251;251m . .\u001b[0m\u001b[1;38;2;251;251;251m)\u001b[0m\n",
       "\u001b[1;38;2;251;251;251m(\u001b[0m\u001b[1;38;2;251;251;251m づ\u001b[0m \u001b[1;38;2;161;238;189mProduct\u001b[0m \u001b[1;38;2;251;251;251mhas been added successfully\u001b[0m!\n",
       "\u001b[1;38;2;161;238;189m8580\u001b[0m\n"
      ]
     },
     "metadata": {},
     "output_type": "display_data"
    },
    {
     "data": {
      "text/html": [
       "<pre style=\"white-space:pre;overflow-x:auto;line-height:normal;font-family:Menlo,'DejaVu Sans Mono',consolas,'Courier New',monospace\">\n",
       " <span style=\"color: #fbfbfb; text-decoration-color: #fbfbfb; font-weight: bold\">/)/)</span>\n",
       "<span style=\"color: #fbfbfb; text-decoration-color: #fbfbfb; font-weight: bold\">( . .)</span>\n",
       "<span style=\"color: #fbfbfb; text-decoration-color: #fbfbfb; font-weight: bold\">( づ</span> <span style=\"color: #a1eebd; text-decoration-color: #a1eebd; font-weight: bold\">Product</span> <span style=\"color: #fbfbfb; text-decoration-color: #fbfbfb; font-weight: bold\">has been added successfully</span>!\n",
       "<span style=\"color: #a1eebd; text-decoration-color: #a1eebd; font-weight: bold\">7143</span>\n",
       "</pre>\n"
      ],
      "text/plain": [
       "\n",
       " \u001b[1;38;2;251;251;251m/\u001b[0m\u001b[1;38;2;251;251;251m)\u001b[0m\u001b[1;38;2;251;251;251m/\u001b[0m\u001b[1;38;2;251;251;251m)\u001b[0m\n",
       "\u001b[1;38;2;251;251;251m(\u001b[0m\u001b[1;38;2;251;251;251m . .\u001b[0m\u001b[1;38;2;251;251;251m)\u001b[0m\n",
       "\u001b[1;38;2;251;251;251m(\u001b[0m\u001b[1;38;2;251;251;251m づ\u001b[0m \u001b[1;38;2;161;238;189mProduct\u001b[0m \u001b[1;38;2;251;251;251mhas been added successfully\u001b[0m!\n",
       "\u001b[1;38;2;161;238;189m7143\u001b[0m\n"
      ]
     },
     "metadata": {},
     "output_type": "display_data"
    },
    {
     "data": {
      "text/html": [
       "<pre style=\"white-space:pre;overflow-x:auto;line-height:normal;font-family:Menlo,'DejaVu Sans Mono',consolas,'Courier New',monospace\"><span style=\"color: #f6f7c4; text-decoration-color: #f6f7c4\">┏━━━━━━━━━━━━</span><span style=\"color: #fbfbfb; text-decoration-color: #fbfbfb\">•✦•❅•✦•</span><span style=\"color: #f6f7c4; text-decoration-color: #f6f7c4\">━━━━━━━━━━━━┓</span>\n",
       "</pre>\n"
      ],
      "text/plain": [
       "\u001b[38;2;246;247;196m┏━━━━━━━━━━━━\u001b[0m\u001b[38;2;251;251;251m•✦•❅•✦•\u001b[0m\u001b[38;2;246;247;196m━━━━━━━━━━━━┓\u001b[0m\n"
      ]
     },
     "metadata": {},
     "output_type": "display_data"
    },
    {
     "data": {
      "text/html": [
       "<pre style=\"white-space:pre;overflow-x:auto;line-height:normal;font-family:Menlo,'DejaVu Sans Mono',consolas,'Courier New',monospace\"> <span style=\"color: #fbfbfb; text-decoration-color: #fbfbfb; font-weight: bold\">/)/)</span>\n",
       "<span style=\"color: #fbfbfb; text-decoration-color: #fbfbfb; font-weight: bold\">( . .)</span>\n",
       "<span style=\"color: #fbfbfb; text-decoration-color: #fbfbfb; font-weight: bold\">( づ</span> <span style=\"color: #b7b1f2; text-decoration-color: #b7b1f2\">♡⑅*˖•.</span> <span style=\"color: #fdb7ea; text-decoration-color: #fdb7ea; font-weight: bold\">Electronics</span> <span style=\"color: #b7b1f2; text-decoration-color: #b7b1f2\">.•˖*⑅♡</span>\n",
       "\n",
       " <span style=\"color: #fbfbfb; text-decoration-color: #fbfbfb; font-weight: bold\">|</span> <span style=\"color: #a1eebd; text-decoration-color: #a1eebd\">Name          </span> : <span style=\"color: #fbfbfb; text-decoration-color: #fbfbfb\">iPhone </span><span style=\"color: #fbfbfb; text-decoration-color: #fbfbfb; font-weight: bold\">14</span>\n",
       " <span style=\"color: #fbfbfb; text-decoration-color: #fbfbfb; font-weight: bold\">|</span> <span style=\"color: #a1eebd; text-decoration-color: #a1eebd\">Price         </span> : <span style=\"color: #fbfbfb; text-decoration-color: #fbfbfb; font-weight: bold\">75780</span><span style=\"color: #fbfbfb; text-decoration-color: #fbfbfb\"> ฿</span>\n",
       " <span style=\"color: #fbfbfb; text-decoration-color: #fbfbfb; font-weight: bold\">|</span> <span style=\"color: #a1eebd; text-decoration-color: #a1eebd\">Type          </span> : <span style=\"color: #fbfbfb; text-decoration-color: #fbfbfb\">Smartphone</span>\n",
       " <span style=\"color: #fbfbfb; text-decoration-color: #fbfbfb; font-weight: bold\">|</span> <span style=\"color: #a1eebd; text-decoration-color: #a1eebd\">Serial number </span> : <span style=\"color: #fbfbfb; text-decoration-color: #fbfbfb; font-weight: bold\">3263</span>\n",
       "\n",
       " <span style=\"color: #fbfbfb; text-decoration-color: #fbfbfb; font-weight: bold\">|</span> <span style=\"color: #a1eebd; text-decoration-color: #a1eebd\">Name          </span> : <span style=\"color: #fbfbfb; text-decoration-color: #fbfbfb\">Dell XPS </span><span style=\"color: #fbfbfb; text-decoration-color: #fbfbfb; font-weight: bold\">13</span>\n",
       " <span style=\"color: #fbfbfb; text-decoration-color: #fbfbfb; font-weight: bold\">|</span> <span style=\"color: #a1eebd; text-decoration-color: #a1eebd\">Price         </span> : <span style=\"color: #fbfbfb; text-decoration-color: #fbfbfb; font-weight: bold\">9539</span><span style=\"color: #fbfbfb; text-decoration-color: #fbfbfb\"> ฿</span>\n",
       " <span style=\"color: #fbfbfb; text-decoration-color: #fbfbfb; font-weight: bold\">|</span> <span style=\"color: #a1eebd; text-decoration-color: #a1eebd\">Type          </span> : <span style=\"color: #fbfbfb; text-decoration-color: #fbfbfb\">Laptop</span>\n",
       " <span style=\"color: #fbfbfb; text-decoration-color: #fbfbfb; font-weight: bold\">|</span> <span style=\"color: #a1eebd; text-decoration-color: #a1eebd\">Serial number </span> : <span style=\"color: #fbfbfb; text-decoration-color: #fbfbfb; font-weight: bold\">2650</span>\n",
       "\n",
       "</pre>\n"
      ],
      "text/plain": [
       " \u001b[1;38;2;251;251;251m/\u001b[0m\u001b[1;38;2;251;251;251m)\u001b[0m\u001b[1;38;2;251;251;251m/\u001b[0m\u001b[1;38;2;251;251;251m)\u001b[0m\n",
       "\u001b[1;38;2;251;251;251m(\u001b[0m\u001b[1;38;2;251;251;251m . .\u001b[0m\u001b[1;38;2;251;251;251m)\u001b[0m\n",
       "\u001b[1;38;2;251;251;251m(\u001b[0m\u001b[1;38;2;251;251;251m づ\u001b[0m \u001b[38;2;183;177;242m♡⑅*˖•.\u001b[0m \u001b[1;38;2;253;183;234mElectronics\u001b[0m \u001b[38;2;183;177;242m.•˖*⑅♡\u001b[0m\n",
       "\n",
       " \u001b[1;38;2;251;251;251m|\u001b[0m \u001b[38;2;161;238;189mName          \u001b[0m : \u001b[38;2;251;251;251miPhone \u001b[0m\u001b[1;38;2;251;251;251m14\u001b[0m\n",
       " \u001b[1;38;2;251;251;251m|\u001b[0m \u001b[38;2;161;238;189mPrice         \u001b[0m : \u001b[1;38;2;251;251;251m75780\u001b[0m\u001b[38;2;251;251;251m ฿\u001b[0m\n",
       " \u001b[1;38;2;251;251;251m|\u001b[0m \u001b[38;2;161;238;189mType          \u001b[0m : \u001b[38;2;251;251;251mSmartphone\u001b[0m\n",
       " \u001b[1;38;2;251;251;251m|\u001b[0m \u001b[38;2;161;238;189mSerial number \u001b[0m : \u001b[1;38;2;251;251;251m3263\u001b[0m\n",
       "\n",
       " \u001b[1;38;2;251;251;251m|\u001b[0m \u001b[38;2;161;238;189mName          \u001b[0m : \u001b[38;2;251;251;251mDell XPS \u001b[0m\u001b[1;38;2;251;251;251m13\u001b[0m\n",
       " \u001b[1;38;2;251;251;251m|\u001b[0m \u001b[38;2;161;238;189mPrice         \u001b[0m : \u001b[1;38;2;251;251;251m9539\u001b[0m\u001b[38;2;251;251;251m ฿\u001b[0m\n",
       " \u001b[1;38;2;251;251;251m|\u001b[0m \u001b[38;2;161;238;189mType          \u001b[0m : \u001b[38;2;251;251;251mLaptop\u001b[0m\n",
       " \u001b[1;38;2;251;251;251m|\u001b[0m \u001b[38;2;161;238;189mSerial number \u001b[0m : \u001b[1;38;2;251;251;251m2650\u001b[0m\n",
       "\n"
      ]
     },
     "metadata": {},
     "output_type": "display_data"
    },
    {
     "data": {
      "text/html": [
       "<pre style=\"white-space:pre;overflow-x:auto;line-height:normal;font-family:Menlo,'DejaVu Sans Mono',consolas,'Courier New',monospace\"><span style=\"color: #f6f7c4; text-decoration-color: #f6f7c4\">┏━━━━━━━━━━━━</span><span style=\"color: #fbfbfb; text-decoration-color: #fbfbfb\">•✦•❅•✦•</span><span style=\"color: #f6f7c4; text-decoration-color: #f6f7c4\">━━━━━━━━━━━━┓</span>\n",
       "</pre>\n"
      ],
      "text/plain": [
       "\u001b[38;2;246;247;196m┏━━━━━━━━━━━━\u001b[0m\u001b[38;2;251;251;251m•✦•❅•✦•\u001b[0m\u001b[38;2;246;247;196m━━━━━━━━━━━━┓\u001b[0m\n"
      ]
     },
     "metadata": {},
     "output_type": "display_data"
    },
    {
     "data": {
      "text/html": [
       "<pre style=\"white-space:pre;overflow-x:auto;line-height:normal;font-family:Menlo,'DejaVu Sans Mono',consolas,'Courier New',monospace\"> <span style=\"color: #fbfbfb; text-decoration-color: #fbfbfb; font-weight: bold\">/)/)</span>\n",
       "<span style=\"color: #fbfbfb; text-decoration-color: #fbfbfb; font-weight: bold\">( . .)</span>\n",
       "<span style=\"color: #fbfbfb; text-decoration-color: #fbfbfb; font-weight: bold\">( づ</span> <span style=\"color: #b7b1f2; text-decoration-color: #b7b1f2\">♡⑅*˖•.</span> <span style=\"color: #fdb7ea; text-decoration-color: #fdb7ea; font-weight: bold\">Clothing</span> <span style=\"color: #b7b1f2; text-decoration-color: #b7b1f2\">.•˖*⑅♡</span>\n",
       "\n",
       " <span style=\"color: #fbfbfb; text-decoration-color: #fbfbfb; font-weight: bold\">|</span> <span style=\"color: #a1eebd; text-decoration-color: #a1eebd\">Brand         </span> : <span style=\"color: #fbfbfb; text-decoration-color: #fbfbfb\">Levi's</span>\n",
       " <span style=\"color: #fbfbfb; text-decoration-color: #fbfbfb; font-weight: bold\">|</span> <span style=\"color: #a1eebd; text-decoration-color: #a1eebd\">Name          </span> : <span style=\"color: #fbfbfb; text-decoration-color: #fbfbfb\">Levi's Jeans</span>\n",
       " <span style=\"color: #fbfbfb; text-decoration-color: #fbfbfb; font-weight: bold\">|</span> <span style=\"color: #a1eebd; text-decoration-color: #a1eebd\">Price         </span> : <span style=\"color: #fbfbfb; text-decoration-color: #fbfbfb; font-weight: bold\">424</span><span style=\"color: #fbfbfb; text-decoration-color: #fbfbfb\"> ฿</span>\n",
       " <span style=\"color: #fbfbfb; text-decoration-color: #fbfbfb; font-weight: bold\">|</span> <span style=\"color: #a1eebd; text-decoration-color: #a1eebd\">Size          </span> : <span style=\"color: #fbfbfb; text-decoration-color: #fbfbfb; font-weight: bold\">32</span>\n",
       " <span style=\"color: #fbfbfb; text-decoration-color: #fbfbfb; font-weight: bold\">|</span> <span style=\"color: #a1eebd; text-decoration-color: #a1eebd\">Serial number </span> : <span style=\"color: #fbfbfb; text-decoration-color: #fbfbfb; font-weight: bold\">5373</span>\n",
       "\n",
       " <span style=\"color: #fbfbfb; text-decoration-color: #fbfbfb; font-weight: bold\">|</span> <span style=\"color: #a1eebd; text-decoration-color: #a1eebd\">Brand         </span> : <span style=\"color: #fbfbfb; text-decoration-color: #fbfbfb\">Adidas</span>\n",
       " <span style=\"color: #fbfbfb; text-decoration-color: #fbfbfb; font-weight: bold\">|</span> <span style=\"color: #a1eebd; text-decoration-color: #a1eebd\">Name          </span> : <span style=\"color: #fbfbfb; text-decoration-color: #fbfbfb\">Adidas Hoodie</span>\n",
       " <span style=\"color: #fbfbfb; text-decoration-color: #fbfbfb; font-weight: bold\">|</span> <span style=\"color: #a1eebd; text-decoration-color: #a1eebd\">Price         </span> : <span style=\"color: #fbfbfb; text-decoration-color: #fbfbfb; font-weight: bold\">3370</span><span style=\"color: #fbfbfb; text-decoration-color: #fbfbfb\"> ฿</span>\n",
       " <span style=\"color: #fbfbfb; text-decoration-color: #fbfbfb; font-weight: bold\">|</span> <span style=\"color: #a1eebd; text-decoration-color: #a1eebd\">Size          </span> : <span style=\"color: #fbfbfb; text-decoration-color: #fbfbfb\">L</span>\n",
       " <span style=\"color: #fbfbfb; text-decoration-color: #fbfbfb; font-weight: bold\">|</span> <span style=\"color: #a1eebd; text-decoration-color: #a1eebd\">Serial number </span> : <span style=\"color: #fbfbfb; text-decoration-color: #fbfbfb; font-weight: bold\">2982</span>\n",
       "\n",
       "</pre>\n"
      ],
      "text/plain": [
       " \u001b[1;38;2;251;251;251m/\u001b[0m\u001b[1;38;2;251;251;251m)\u001b[0m\u001b[1;38;2;251;251;251m/\u001b[0m\u001b[1;38;2;251;251;251m)\u001b[0m\n",
       "\u001b[1;38;2;251;251;251m(\u001b[0m\u001b[1;38;2;251;251;251m . .\u001b[0m\u001b[1;38;2;251;251;251m)\u001b[0m\n",
       "\u001b[1;38;2;251;251;251m(\u001b[0m\u001b[1;38;2;251;251;251m づ\u001b[0m \u001b[38;2;183;177;242m♡⑅*˖•.\u001b[0m \u001b[1;38;2;253;183;234mClothing\u001b[0m \u001b[38;2;183;177;242m.•˖*⑅♡\u001b[0m\n",
       "\n",
       " \u001b[1;38;2;251;251;251m|\u001b[0m \u001b[38;2;161;238;189mBrand         \u001b[0m : \u001b[38;2;251;251;251mLevi's\u001b[0m\n",
       " \u001b[1;38;2;251;251;251m|\u001b[0m \u001b[38;2;161;238;189mName          \u001b[0m : \u001b[38;2;251;251;251mLevi's Jeans\u001b[0m\n",
       " \u001b[1;38;2;251;251;251m|\u001b[0m \u001b[38;2;161;238;189mPrice         \u001b[0m : \u001b[1;38;2;251;251;251m424\u001b[0m\u001b[38;2;251;251;251m ฿\u001b[0m\n",
       " \u001b[1;38;2;251;251;251m|\u001b[0m \u001b[38;2;161;238;189mSize          \u001b[0m : \u001b[1;38;2;251;251;251m32\u001b[0m\n",
       " \u001b[1;38;2;251;251;251m|\u001b[0m \u001b[38;2;161;238;189mSerial number \u001b[0m : \u001b[1;38;2;251;251;251m5373\u001b[0m\n",
       "\n",
       " \u001b[1;38;2;251;251;251m|\u001b[0m \u001b[38;2;161;238;189mBrand         \u001b[0m : \u001b[38;2;251;251;251mAdidas\u001b[0m\n",
       " \u001b[1;38;2;251;251;251m|\u001b[0m \u001b[38;2;161;238;189mName          \u001b[0m : \u001b[38;2;251;251;251mAdidas Hoodie\u001b[0m\n",
       " \u001b[1;38;2;251;251;251m|\u001b[0m \u001b[38;2;161;238;189mPrice         \u001b[0m : \u001b[1;38;2;251;251;251m3370\u001b[0m\u001b[38;2;251;251;251m ฿\u001b[0m\n",
       " \u001b[1;38;2;251;251;251m|\u001b[0m \u001b[38;2;161;238;189mSize          \u001b[0m : \u001b[38;2;251;251;251mL\u001b[0m\n",
       " \u001b[1;38;2;251;251;251m|\u001b[0m \u001b[38;2;161;238;189mSerial number \u001b[0m : \u001b[1;38;2;251;251;251m2982\u001b[0m\n",
       "\n"
      ]
     },
     "metadata": {},
     "output_type": "display_data"
    },
    {
     "data": {
      "text/html": [
       "<pre style=\"white-space:pre;overflow-x:auto;line-height:normal;font-family:Menlo,'DejaVu Sans Mono',consolas,'Courier New',monospace\"><span style=\"color: #f6f7c4; text-decoration-color: #f6f7c4\">┏━━━━━━━━━━━━</span><span style=\"color: #fbfbfb; text-decoration-color: #fbfbfb\">•✦•❅•✦•</span><span style=\"color: #f6f7c4; text-decoration-color: #f6f7c4\">━━━━━━━━━━━━┓</span>\n",
       "</pre>\n"
      ],
      "text/plain": [
       "\u001b[38;2;246;247;196m┏━━━━━━━━━━━━\u001b[0m\u001b[38;2;251;251;251m•✦•❅•✦•\u001b[0m\u001b[38;2;246;247;196m━━━━━━━━━━━━┓\u001b[0m\n"
      ]
     },
     "metadata": {},
     "output_type": "display_data"
    },
    {
     "data": {
      "text/html": [
       "<pre style=\"white-space:pre;overflow-x:auto;line-height:normal;font-family:Menlo,'DejaVu Sans Mono',consolas,'Courier New',monospace\"> <span style=\"color: #fbfbfb; text-decoration-color: #fbfbfb; font-weight: bold\">/)/)</span>\n",
       "<span style=\"color: #fbfbfb; text-decoration-color: #fbfbfb; font-weight: bold\">( . .)</span>\n",
       "<span style=\"color: #fbfbfb; text-decoration-color: #fbfbfb; font-weight: bold\">( づ</span> <span style=\"color: #b7b1f2; text-decoration-color: #b7b1f2\">♡⑅*˖•.</span> <span style=\"color: #fdb7ea; text-decoration-color: #fdb7ea; font-weight: bold\">Grocery</span> <span style=\"color: #b7b1f2; text-decoration-color: #b7b1f2\">.•˖*⑅♡</span>\n",
       "\n",
       " <span style=\"color: #fbfbfb; text-decoration-color: #fbfbfb; font-weight: bold\">|</span> <span style=\"color: #a1eebd; text-decoration-color: #a1eebd\">Name          </span> : <span style=\"color: #fbfbfb; text-decoration-color: #fbfbfb\">Bread</span>\n",
       " <span style=\"color: #fbfbfb; text-decoration-color: #fbfbfb; font-weight: bold\">|</span> <span style=\"color: #a1eebd; text-decoration-color: #a1eebd\">Price         </span> : <span style=\"color: #fbfbfb; text-decoration-color: #fbfbfb; font-weight: bold\">223</span><span style=\"color: #fbfbfb; text-decoration-color: #fbfbfb\"> ฿</span>\n",
       " <span style=\"color: #fbfbfb; text-decoration-color: #fbfbfb; font-weight: bold\">|</span> <span style=\"color: #a1eebd; text-decoration-color: #a1eebd\">EXD           </span> : <span style=\"color: #fbfbfb; text-decoration-color: #fbfbfb; font-weight: bold\">2021</span><span style=\"color: #fbfbfb; text-decoration-color: #fbfbfb\">-</span><span style=\"color: #fbfbfb; text-decoration-color: #fbfbfb; font-weight: bold\">01</span><span style=\"color: #fbfbfb; text-decoration-color: #fbfbfb\">-</span><span style=\"color: #fbfbfb; text-decoration-color: #fbfbfb; font-weight: bold\">01</span>\n",
       " <span style=\"color: #fbfbfb; text-decoration-color: #fbfbfb; font-weight: bold\">|</span> <span style=\"color: #a1eebd; text-decoration-color: #a1eebd\">Serial number </span> : <span style=\"color: #fbfbfb; text-decoration-color: #fbfbfb; font-weight: bold\">8580</span>\n",
       "\n",
       " <span style=\"color: #fbfbfb; text-decoration-color: #fbfbfb; font-weight: bold\">|</span> <span style=\"color: #a1eebd; text-decoration-color: #a1eebd\">Name          </span> : <span style=\"color: #fbfbfb; text-decoration-color: #fbfbfb\">Bread</span>\n",
       " <span style=\"color: #fbfbfb; text-decoration-color: #fbfbfb; font-weight: bold\">|</span> <span style=\"color: #a1eebd; text-decoration-color: #a1eebd\">Price         </span> : <span style=\"color: #fbfbfb; text-decoration-color: #fbfbfb; font-weight: bold\">160</span><span style=\"color: #fbfbfb; text-decoration-color: #fbfbfb\"> ฿</span>\n",
       " <span style=\"color: #fbfbfb; text-decoration-color: #fbfbfb; font-weight: bold\">|</span> <span style=\"color: #a1eebd; text-decoration-color: #a1eebd\">EXD           </span> : <span style=\"color: #fbfbfb; text-decoration-color: #fbfbfb; font-weight: bold\">2023</span><span style=\"color: #fbfbfb; text-decoration-color: #fbfbfb\">-</span><span style=\"color: #fbfbfb; text-decoration-color: #fbfbfb; font-weight: bold\">01</span><span style=\"color: #fbfbfb; text-decoration-color: #fbfbfb\">-</span><span style=\"color: #fbfbfb; text-decoration-color: #fbfbfb; font-weight: bold\">01</span>\n",
       " <span style=\"color: #fbfbfb; text-decoration-color: #fbfbfb; font-weight: bold\">|</span> <span style=\"color: #a1eebd; text-decoration-color: #a1eebd\">Serial number </span> : <span style=\"color: #fbfbfb; text-decoration-color: #fbfbfb; font-weight: bold\">7143</span>\n",
       "\n",
       "</pre>\n"
      ],
      "text/plain": [
       " \u001b[1;38;2;251;251;251m/\u001b[0m\u001b[1;38;2;251;251;251m)\u001b[0m\u001b[1;38;2;251;251;251m/\u001b[0m\u001b[1;38;2;251;251;251m)\u001b[0m\n",
       "\u001b[1;38;2;251;251;251m(\u001b[0m\u001b[1;38;2;251;251;251m . .\u001b[0m\u001b[1;38;2;251;251;251m)\u001b[0m\n",
       "\u001b[1;38;2;251;251;251m(\u001b[0m\u001b[1;38;2;251;251;251m づ\u001b[0m \u001b[38;2;183;177;242m♡⑅*˖•.\u001b[0m \u001b[1;38;2;253;183;234mGrocery\u001b[0m \u001b[38;2;183;177;242m.•˖*⑅♡\u001b[0m\n",
       "\n",
       " \u001b[1;38;2;251;251;251m|\u001b[0m \u001b[38;2;161;238;189mName          \u001b[0m : \u001b[38;2;251;251;251mBread\u001b[0m\n",
       " \u001b[1;38;2;251;251;251m|\u001b[0m \u001b[38;2;161;238;189mPrice         \u001b[0m : \u001b[1;38;2;251;251;251m223\u001b[0m\u001b[38;2;251;251;251m ฿\u001b[0m\n",
       " \u001b[1;38;2;251;251;251m|\u001b[0m \u001b[38;2;161;238;189mEXD           \u001b[0m : \u001b[1;38;2;251;251;251m2021\u001b[0m\u001b[38;2;251;251;251m-\u001b[0m\u001b[1;38;2;251;251;251m01\u001b[0m\u001b[38;2;251;251;251m-\u001b[0m\u001b[1;38;2;251;251;251m01\u001b[0m\n",
       " \u001b[1;38;2;251;251;251m|\u001b[0m \u001b[38;2;161;238;189mSerial number \u001b[0m : \u001b[1;38;2;251;251;251m8580\u001b[0m\n",
       "\n",
       " \u001b[1;38;2;251;251;251m|\u001b[0m \u001b[38;2;161;238;189mName          \u001b[0m : \u001b[38;2;251;251;251mBread\u001b[0m\n",
       " \u001b[1;38;2;251;251;251m|\u001b[0m \u001b[38;2;161;238;189mPrice         \u001b[0m : \u001b[1;38;2;251;251;251m160\u001b[0m\u001b[38;2;251;251;251m ฿\u001b[0m\n",
       " \u001b[1;38;2;251;251;251m|\u001b[0m \u001b[38;2;161;238;189mEXD           \u001b[0m : \u001b[1;38;2;251;251;251m2023\u001b[0m\u001b[38;2;251;251;251m-\u001b[0m\u001b[1;38;2;251;251;251m01\u001b[0m\u001b[38;2;251;251;251m-\u001b[0m\u001b[1;38;2;251;251;251m01\u001b[0m\n",
       " \u001b[1;38;2;251;251;251m|\u001b[0m \u001b[38;2;161;238;189mSerial number \u001b[0m : \u001b[1;38;2;251;251;251m7143\u001b[0m\n",
       "\n"
      ]
     },
     "metadata": {},
     "output_type": "display_data"
    },
    {
     "data": {
      "text/html": [
       "<pre style=\"white-space:pre;overflow-x:auto;line-height:normal;font-family:Menlo,'DejaVu Sans Mono',consolas,'Courier New',monospace\"><span style=\"color: #f6f7c4; text-decoration-color: #f6f7c4\">┏━━━━━━━━━━━━━━━━━━━━━━━━</span><span style=\"color: #fbfbfb; text-decoration-color: #fbfbfb\">•✦•❅•✦•</span><span style=\"color: #f6f7c4; text-decoration-color: #f6f7c4\">━━━━━━━━━━━━━━━━━━━━━━━━┓</span>\n",
       "\n",
       "</pre>\n"
      ],
      "text/plain": [
       "\u001b[38;2;246;247;196m┏━━━━━━━━━━━━━━━━━━━━━━━━\u001b[0m\u001b[38;2;251;251;251m•✦•❅•✦•\u001b[0m\u001b[38;2;246;247;196m━━━━━━━━━━━━━━━━━━━━━━━━┓\u001b[0m\n",
       "\n"
      ]
     },
     "metadata": {},
     "output_type": "display_data"
    },
    {
     "data": {
      "text/html": [
       "<pre style=\"white-space:pre;overflow-x:auto;line-height:normal;font-family:Menlo,'DejaVu Sans Mono',consolas,'Courier New',monospace\"><span style=\"color: #fbfbfb; text-decoration-color: #fbfbfb; font-weight: bold\">คุณได้ใช้ส่วนลด</span> <span style=\"color: #f6f7c4; text-decoration-color: #f6f7c4; font-weight: bold\">XXX</span> <span style=\"color: #fbfbfb; text-decoration-color: #fbfbfb; font-weight: bold\">สำหรับ</span> <span style=\"color: #f6f7c4; text-decoration-color: #f6f7c4; font-weight: bold\">Electronics  </span> <span style=\"color: #fbfbfb; text-decoration-color: #fbfbfb; font-weight: bold\">ลดราคา</span> <span style=\"color: #f6f7c4; text-decoration-color: #f6f7c4; font-weight: bold\">50</span><span style=\"color: #f6f7c4; text-decoration-color: #f6f7c4; font-weight: bold\"> %</span> <span style=\"color: #fbfbfb; text-decoration-color: #fbfbfb; font-weight: bold\">เรียบร้อย</span>!\n",
       "<span style=\"color: #fbfbfb; text-decoration-color: #fbfbfb; font-weight: bold\">คุณได้ใช้ส่วนลด</span> <span style=\"color: #f6f7c4; text-decoration-color: #f6f7c4; font-weight: bold\">XXX</span> <span style=\"color: #fbfbfb; text-decoration-color: #fbfbfb; font-weight: bold\">สำหรับ</span> <span style=\"color: #f6f7c4; text-decoration-color: #f6f7c4; font-weight: bold\">Clothing     </span> <span style=\"color: #fbfbfb; text-decoration-color: #fbfbfb; font-weight: bold\">ลดราคา</span> <span style=\"color: #f6f7c4; text-decoration-color: #f6f7c4; font-weight: bold\">50</span><span style=\"color: #f6f7c4; text-decoration-color: #f6f7c4; font-weight: bold\"> %</span> <span style=\"color: #fbfbfb; text-decoration-color: #fbfbfb; font-weight: bold\">เรียบร้อย</span>!\n",
       "<span style=\"color: #fbfbfb; text-decoration-color: #fbfbfb; font-weight: bold\">คุณได้ใช้ส่วนลด</span> <span style=\"color: #f6f7c4; text-decoration-color: #f6f7c4; font-weight: bold\">XXX</span> <span style=\"color: #fbfbfb; text-decoration-color: #fbfbfb; font-weight: bold\">สำหรับ</span> <span style=\"color: #f6f7c4; text-decoration-color: #f6f7c4; font-weight: bold\">Grocery      </span> <span style=\"color: #fbfbfb; text-decoration-color: #fbfbfb; font-weight: bold\">ลดราคา</span> <span style=\"color: #f6f7c4; text-decoration-color: #f6f7c4; font-weight: bold\">20</span><span style=\"color: #f6f7c4; text-decoration-color: #f6f7c4; font-weight: bold\"> %</span> <span style=\"color: #fbfbfb; text-decoration-color: #fbfbfb; font-weight: bold\">เรียบร้อย</span>!\n",
       "\n",
       "</pre>\n"
      ],
      "text/plain": [
       "\u001b[1;38;2;251;251;251mคุณได้ใช้ส่วนลด\u001b[0m \u001b[1;38;2;246;247;196mXXX\u001b[0m \u001b[1;38;2;251;251;251mสำหรับ\u001b[0m \u001b[1;38;2;246;247;196mElectronics  \u001b[0m \u001b[1;38;2;251;251;251mลดราคา\u001b[0m \u001b[1;38;2;246;247;196m50\u001b[0m\u001b[1;38;2;246;247;196m %\u001b[0m \u001b[1;38;2;251;251;251mเรียบร้อย\u001b[0m!\n",
       "\u001b[1;38;2;251;251;251mคุณได้ใช้ส่วนลด\u001b[0m \u001b[1;38;2;246;247;196mXXX\u001b[0m \u001b[1;38;2;251;251;251mสำหรับ\u001b[0m \u001b[1;38;2;246;247;196mClothing     \u001b[0m \u001b[1;38;2;251;251;251mลดราคา\u001b[0m \u001b[1;38;2;246;247;196m50\u001b[0m\u001b[1;38;2;246;247;196m %\u001b[0m \u001b[1;38;2;251;251;251mเรียบร้อย\u001b[0m!\n",
       "\u001b[1;38;2;251;251;251mคุณได้ใช้ส่วนลด\u001b[0m \u001b[1;38;2;246;247;196mXXX\u001b[0m \u001b[1;38;2;251;251;251mสำหรับ\u001b[0m \u001b[1;38;2;246;247;196mGrocery      \u001b[0m \u001b[1;38;2;251;251;251mลดราคา\u001b[0m \u001b[1;38;2;246;247;196m20\u001b[0m\u001b[1;38;2;246;247;196m %\u001b[0m \u001b[1;38;2;251;251;251mเรียบร้อย\u001b[0m!\n",
       "\n"
      ]
     },
     "metadata": {},
     "output_type": "display_data"
    },
    {
     "data": {
      "text/html": [
       "<pre style=\"white-space:pre;overflow-x:auto;line-height:normal;font-family:Menlo,'DejaVu Sans Mono',consolas,'Courier New',monospace\"><span style=\"color: #f6f7c4; text-decoration-color: #f6f7c4\">┗━━━━━━━━━━━━━━━━━━━━━━</span><span style=\"color: #fbfbfb; text-decoration-color: #fbfbfb\">•❅•°•❈•°•❅•</span><span style=\"color: #f6f7c4; text-decoration-color: #f6f7c4\">━━━━━━━━━━━━━━━━━━━━━━┛</span>\n",
       "</pre>\n"
      ],
      "text/plain": [
       "\u001b[38;2;246;247;196m┗━━━━━━━━━━━━━━━━━━━━━━\u001b[0m\u001b[38;2;251;251;251m•❅•°•❈•°•❅•\u001b[0m\u001b[38;2;246;247;196m━━━━━━━━━━━━━━━━━━━━━━┛\u001b[0m\n"
      ]
     },
     "metadata": {},
     "output_type": "display_data"
    },
    {
     "data": {
      "text/html": [
       "<pre style=\"white-space:pre;overflow-x:auto;line-height:normal;font-family:Menlo,'DejaVu Sans Mono',consolas,'Courier New',monospace\"><span style=\"color: #f6f7c4; text-decoration-color: #f6f7c4\">┏━━━━━━━━━━━━</span><span style=\"color: #fbfbfb; text-decoration-color: #fbfbfb\">•✦•❅•✦•</span><span style=\"color: #f6f7c4; text-decoration-color: #f6f7c4\">━━━━━━━━━━━━┓</span>\n",
       "</pre>\n"
      ],
      "text/plain": [
       "\u001b[38;2;246;247;196m┏━━━━━━━━━━━━\u001b[0m\u001b[38;2;251;251;251m•✦•❅•✦•\u001b[0m\u001b[38;2;246;247;196m━━━━━━━━━━━━┓\u001b[0m\n"
      ]
     },
     "metadata": {},
     "output_type": "display_data"
    },
    {
     "data": {
      "text/html": [
       "<pre style=\"white-space:pre;overflow-x:auto;line-height:normal;font-family:Menlo,'DejaVu Sans Mono',consolas,'Courier New',monospace\"> <span style=\"color: #fbfbfb; text-decoration-color: #fbfbfb; font-weight: bold\">/)/)</span>\n",
       "<span style=\"color: #fbfbfb; text-decoration-color: #fbfbfb; font-weight: bold\">( . .)</span>\n",
       "<span style=\"color: #fbfbfb; text-decoration-color: #fbfbfb; font-weight: bold\">( づ</span> <span style=\"color: #b7b1f2; text-decoration-color: #b7b1f2\">♡⑅*˖•.</span> <span style=\"color: #fdb7ea; text-decoration-color: #fdb7ea; font-weight: bold\">Electronics</span> <span style=\"color: #b7b1f2; text-decoration-color: #b7b1f2\">.•˖*⑅♡</span>\n",
       "\n",
       " <span style=\"color: #fbfbfb; text-decoration-color: #fbfbfb; font-weight: bold\">|</span> <span style=\"color: #a1eebd; text-decoration-color: #a1eebd\">Name          </span> : <span style=\"color: #fbfbfb; text-decoration-color: #fbfbfb\">iPhone </span><span style=\"color: #fbfbfb; text-decoration-color: #fbfbfb; font-weight: bold\">14</span>\n",
       " <span style=\"color: #fbfbfb; text-decoration-color: #fbfbfb; font-weight: bold\">|</span> <span style=\"color: #a1eebd; text-decoration-color: #a1eebd\">Price         </span> : <span style=\"color: #fbfbfb; text-decoration-color: #fbfbfb; font-weight: bold\">37890.0</span><span style=\"color: #fbfbfb; text-decoration-color: #fbfbfb\"> ฿</span>\n",
       " <span style=\"color: #fbfbfb; text-decoration-color: #fbfbfb; font-weight: bold\">|</span> <span style=\"color: #a1eebd; text-decoration-color: #a1eebd\">Type          </span> : <span style=\"color: #fbfbfb; text-decoration-color: #fbfbfb\">Smartphone</span>\n",
       " <span style=\"color: #fbfbfb; text-decoration-color: #fbfbfb; font-weight: bold\">|</span> <span style=\"color: #a1eebd; text-decoration-color: #a1eebd\">Serial number </span> : <span style=\"color: #fbfbfb; text-decoration-color: #fbfbfb; font-weight: bold\">3263</span>\n",
       "\n",
       " <span style=\"color: #fbfbfb; text-decoration-color: #fbfbfb; font-weight: bold\">|</span> <span style=\"color: #a1eebd; text-decoration-color: #a1eebd\">Name          </span> : <span style=\"color: #fbfbfb; text-decoration-color: #fbfbfb\">Dell XPS </span><span style=\"color: #fbfbfb; text-decoration-color: #fbfbfb; font-weight: bold\">13</span>\n",
       " <span style=\"color: #fbfbfb; text-decoration-color: #fbfbfb; font-weight: bold\">|</span> <span style=\"color: #a1eebd; text-decoration-color: #a1eebd\">Price         </span> : <span style=\"color: #fbfbfb; text-decoration-color: #fbfbfb; font-weight: bold\">4769.5</span><span style=\"color: #fbfbfb; text-decoration-color: #fbfbfb\"> ฿</span>\n",
       " <span style=\"color: #fbfbfb; text-decoration-color: #fbfbfb; font-weight: bold\">|</span> <span style=\"color: #a1eebd; text-decoration-color: #a1eebd\">Type          </span> : <span style=\"color: #fbfbfb; text-decoration-color: #fbfbfb\">Laptop</span>\n",
       " <span style=\"color: #fbfbfb; text-decoration-color: #fbfbfb; font-weight: bold\">|</span> <span style=\"color: #a1eebd; text-decoration-color: #a1eebd\">Serial number </span> : <span style=\"color: #fbfbfb; text-decoration-color: #fbfbfb; font-weight: bold\">2650</span>\n",
       "\n",
       "</pre>\n"
      ],
      "text/plain": [
       " \u001b[1;38;2;251;251;251m/\u001b[0m\u001b[1;38;2;251;251;251m)\u001b[0m\u001b[1;38;2;251;251;251m/\u001b[0m\u001b[1;38;2;251;251;251m)\u001b[0m\n",
       "\u001b[1;38;2;251;251;251m(\u001b[0m\u001b[1;38;2;251;251;251m . .\u001b[0m\u001b[1;38;2;251;251;251m)\u001b[0m\n",
       "\u001b[1;38;2;251;251;251m(\u001b[0m\u001b[1;38;2;251;251;251m づ\u001b[0m \u001b[38;2;183;177;242m♡⑅*˖•.\u001b[0m \u001b[1;38;2;253;183;234mElectronics\u001b[0m \u001b[38;2;183;177;242m.•˖*⑅♡\u001b[0m\n",
       "\n",
       " \u001b[1;38;2;251;251;251m|\u001b[0m \u001b[38;2;161;238;189mName          \u001b[0m : \u001b[38;2;251;251;251miPhone \u001b[0m\u001b[1;38;2;251;251;251m14\u001b[0m\n",
       " \u001b[1;38;2;251;251;251m|\u001b[0m \u001b[38;2;161;238;189mPrice         \u001b[0m : \u001b[1;38;2;251;251;251m37890.0\u001b[0m\u001b[38;2;251;251;251m ฿\u001b[0m\n",
       " \u001b[1;38;2;251;251;251m|\u001b[0m \u001b[38;2;161;238;189mType          \u001b[0m : \u001b[38;2;251;251;251mSmartphone\u001b[0m\n",
       " \u001b[1;38;2;251;251;251m|\u001b[0m \u001b[38;2;161;238;189mSerial number \u001b[0m : \u001b[1;38;2;251;251;251m3263\u001b[0m\n",
       "\n",
       " \u001b[1;38;2;251;251;251m|\u001b[0m \u001b[38;2;161;238;189mName          \u001b[0m : \u001b[38;2;251;251;251mDell XPS \u001b[0m\u001b[1;38;2;251;251;251m13\u001b[0m\n",
       " \u001b[1;38;2;251;251;251m|\u001b[0m \u001b[38;2;161;238;189mPrice         \u001b[0m : \u001b[1;38;2;251;251;251m4769.5\u001b[0m\u001b[38;2;251;251;251m ฿\u001b[0m\n",
       " \u001b[1;38;2;251;251;251m|\u001b[0m \u001b[38;2;161;238;189mType          \u001b[0m : \u001b[38;2;251;251;251mLaptop\u001b[0m\n",
       " \u001b[1;38;2;251;251;251m|\u001b[0m \u001b[38;2;161;238;189mSerial number \u001b[0m : \u001b[1;38;2;251;251;251m2650\u001b[0m\n",
       "\n"
      ]
     },
     "metadata": {},
     "output_type": "display_data"
    },
    {
     "data": {
      "text/html": [
       "<pre style=\"white-space:pre;overflow-x:auto;line-height:normal;font-family:Menlo,'DejaVu Sans Mono',consolas,'Courier New',monospace\"><span style=\"color: #f6f7c4; text-decoration-color: #f6f7c4\">┏━━━━━━━━━━━━</span><span style=\"color: #fbfbfb; text-decoration-color: #fbfbfb\">•✦•❅•✦•</span><span style=\"color: #f6f7c4; text-decoration-color: #f6f7c4\">━━━━━━━━━━━━┓</span>\n",
       "</pre>\n"
      ],
      "text/plain": [
       "\u001b[38;2;246;247;196m┏━━━━━━━━━━━━\u001b[0m\u001b[38;2;251;251;251m•✦•❅•✦•\u001b[0m\u001b[38;2;246;247;196m━━━━━━━━━━━━┓\u001b[0m\n"
      ]
     },
     "metadata": {},
     "output_type": "display_data"
    },
    {
     "data": {
      "text/html": [
       "<pre style=\"white-space:pre;overflow-x:auto;line-height:normal;font-family:Menlo,'DejaVu Sans Mono',consolas,'Courier New',monospace\"> <span style=\"color: #fbfbfb; text-decoration-color: #fbfbfb; font-weight: bold\">/)/)</span>\n",
       "<span style=\"color: #fbfbfb; text-decoration-color: #fbfbfb; font-weight: bold\">( . .)</span>\n",
       "<span style=\"color: #fbfbfb; text-decoration-color: #fbfbfb; font-weight: bold\">( づ</span> <span style=\"color: #b7b1f2; text-decoration-color: #b7b1f2\">♡⑅*˖•.</span> <span style=\"color: #fdb7ea; text-decoration-color: #fdb7ea; font-weight: bold\">Clothing</span> <span style=\"color: #b7b1f2; text-decoration-color: #b7b1f2\">.•˖*⑅♡</span>\n",
       "\n",
       " <span style=\"color: #fbfbfb; text-decoration-color: #fbfbfb; font-weight: bold\">|</span> <span style=\"color: #a1eebd; text-decoration-color: #a1eebd\">Brand         </span> : <span style=\"color: #fbfbfb; text-decoration-color: #fbfbfb\">Levi's</span>\n",
       " <span style=\"color: #fbfbfb; text-decoration-color: #fbfbfb; font-weight: bold\">|</span> <span style=\"color: #a1eebd; text-decoration-color: #a1eebd\">Name          </span> : <span style=\"color: #fbfbfb; text-decoration-color: #fbfbfb\">Levi's Jeans</span>\n",
       " <span style=\"color: #fbfbfb; text-decoration-color: #fbfbfb; font-weight: bold\">|</span> <span style=\"color: #a1eebd; text-decoration-color: #a1eebd\">Price         </span> : <span style=\"color: #fbfbfb; text-decoration-color: #fbfbfb; font-weight: bold\">212.0</span><span style=\"color: #fbfbfb; text-decoration-color: #fbfbfb\"> ฿</span>\n",
       " <span style=\"color: #fbfbfb; text-decoration-color: #fbfbfb; font-weight: bold\">|</span> <span style=\"color: #a1eebd; text-decoration-color: #a1eebd\">Size          </span> : <span style=\"color: #fbfbfb; text-decoration-color: #fbfbfb; font-weight: bold\">32</span>\n",
       " <span style=\"color: #fbfbfb; text-decoration-color: #fbfbfb; font-weight: bold\">|</span> <span style=\"color: #a1eebd; text-decoration-color: #a1eebd\">Serial number </span> : <span style=\"color: #fbfbfb; text-decoration-color: #fbfbfb; font-weight: bold\">5373</span>\n",
       "\n",
       " <span style=\"color: #fbfbfb; text-decoration-color: #fbfbfb; font-weight: bold\">|</span> <span style=\"color: #a1eebd; text-decoration-color: #a1eebd\">Brand         </span> : <span style=\"color: #fbfbfb; text-decoration-color: #fbfbfb\">Adidas</span>\n",
       " <span style=\"color: #fbfbfb; text-decoration-color: #fbfbfb; font-weight: bold\">|</span> <span style=\"color: #a1eebd; text-decoration-color: #a1eebd\">Name          </span> : <span style=\"color: #fbfbfb; text-decoration-color: #fbfbfb\">Adidas Hoodie</span>\n",
       " <span style=\"color: #fbfbfb; text-decoration-color: #fbfbfb; font-weight: bold\">|</span> <span style=\"color: #a1eebd; text-decoration-color: #a1eebd\">Price         </span> : <span style=\"color: #fbfbfb; text-decoration-color: #fbfbfb; font-weight: bold\">1685.0</span><span style=\"color: #fbfbfb; text-decoration-color: #fbfbfb\"> ฿</span>\n",
       " <span style=\"color: #fbfbfb; text-decoration-color: #fbfbfb; font-weight: bold\">|</span> <span style=\"color: #a1eebd; text-decoration-color: #a1eebd\">Size          </span> : <span style=\"color: #fbfbfb; text-decoration-color: #fbfbfb\">L</span>\n",
       " <span style=\"color: #fbfbfb; text-decoration-color: #fbfbfb; font-weight: bold\">|</span> <span style=\"color: #a1eebd; text-decoration-color: #a1eebd\">Serial number </span> : <span style=\"color: #fbfbfb; text-decoration-color: #fbfbfb; font-weight: bold\">2982</span>\n",
       "\n",
       "</pre>\n"
      ],
      "text/plain": [
       " \u001b[1;38;2;251;251;251m/\u001b[0m\u001b[1;38;2;251;251;251m)\u001b[0m\u001b[1;38;2;251;251;251m/\u001b[0m\u001b[1;38;2;251;251;251m)\u001b[0m\n",
       "\u001b[1;38;2;251;251;251m(\u001b[0m\u001b[1;38;2;251;251;251m . .\u001b[0m\u001b[1;38;2;251;251;251m)\u001b[0m\n",
       "\u001b[1;38;2;251;251;251m(\u001b[0m\u001b[1;38;2;251;251;251m づ\u001b[0m \u001b[38;2;183;177;242m♡⑅*˖•.\u001b[0m \u001b[1;38;2;253;183;234mClothing\u001b[0m \u001b[38;2;183;177;242m.•˖*⑅♡\u001b[0m\n",
       "\n",
       " \u001b[1;38;2;251;251;251m|\u001b[0m \u001b[38;2;161;238;189mBrand         \u001b[0m : \u001b[38;2;251;251;251mLevi's\u001b[0m\n",
       " \u001b[1;38;2;251;251;251m|\u001b[0m \u001b[38;2;161;238;189mName          \u001b[0m : \u001b[38;2;251;251;251mLevi's Jeans\u001b[0m\n",
       " \u001b[1;38;2;251;251;251m|\u001b[0m \u001b[38;2;161;238;189mPrice         \u001b[0m : \u001b[1;38;2;251;251;251m212.0\u001b[0m\u001b[38;2;251;251;251m ฿\u001b[0m\n",
       " \u001b[1;38;2;251;251;251m|\u001b[0m \u001b[38;2;161;238;189mSize          \u001b[0m : \u001b[1;38;2;251;251;251m32\u001b[0m\n",
       " \u001b[1;38;2;251;251;251m|\u001b[0m \u001b[38;2;161;238;189mSerial number \u001b[0m : \u001b[1;38;2;251;251;251m5373\u001b[0m\n",
       "\n",
       " \u001b[1;38;2;251;251;251m|\u001b[0m \u001b[38;2;161;238;189mBrand         \u001b[0m : \u001b[38;2;251;251;251mAdidas\u001b[0m\n",
       " \u001b[1;38;2;251;251;251m|\u001b[0m \u001b[38;2;161;238;189mName          \u001b[0m : \u001b[38;2;251;251;251mAdidas Hoodie\u001b[0m\n",
       " \u001b[1;38;2;251;251;251m|\u001b[0m \u001b[38;2;161;238;189mPrice         \u001b[0m : \u001b[1;38;2;251;251;251m1685.0\u001b[0m\u001b[38;2;251;251;251m ฿\u001b[0m\n",
       " \u001b[1;38;2;251;251;251m|\u001b[0m \u001b[38;2;161;238;189mSize          \u001b[0m : \u001b[38;2;251;251;251mL\u001b[0m\n",
       " \u001b[1;38;2;251;251;251m|\u001b[0m \u001b[38;2;161;238;189mSerial number \u001b[0m : \u001b[1;38;2;251;251;251m2982\u001b[0m\n",
       "\n"
      ]
     },
     "metadata": {},
     "output_type": "display_data"
    },
    {
     "data": {
      "text/html": [
       "<pre style=\"white-space:pre;overflow-x:auto;line-height:normal;font-family:Menlo,'DejaVu Sans Mono',consolas,'Courier New',monospace\"><span style=\"color: #f6f7c4; text-decoration-color: #f6f7c4\">┏━━━━━━━━━━━━</span><span style=\"color: #fbfbfb; text-decoration-color: #fbfbfb\">•✦•❅•✦•</span><span style=\"color: #f6f7c4; text-decoration-color: #f6f7c4\">━━━━━━━━━━━━┓</span>\n",
       "</pre>\n"
      ],
      "text/plain": [
       "\u001b[38;2;246;247;196m┏━━━━━━━━━━━━\u001b[0m\u001b[38;2;251;251;251m•✦•❅•✦•\u001b[0m\u001b[38;2;246;247;196m━━━━━━━━━━━━┓\u001b[0m\n"
      ]
     },
     "metadata": {},
     "output_type": "display_data"
    },
    {
     "data": {
      "text/html": [
       "<pre style=\"white-space:pre;overflow-x:auto;line-height:normal;font-family:Menlo,'DejaVu Sans Mono',consolas,'Courier New',monospace\"> <span style=\"color: #fbfbfb; text-decoration-color: #fbfbfb; font-weight: bold\">/)/)</span>\n",
       "<span style=\"color: #fbfbfb; text-decoration-color: #fbfbfb; font-weight: bold\">( . .)</span>\n",
       "<span style=\"color: #fbfbfb; text-decoration-color: #fbfbfb; font-weight: bold\">( づ</span> <span style=\"color: #b7b1f2; text-decoration-color: #b7b1f2\">♡⑅*˖•.</span> <span style=\"color: #fdb7ea; text-decoration-color: #fdb7ea; font-weight: bold\">Grocery</span> <span style=\"color: #b7b1f2; text-decoration-color: #b7b1f2\">.•˖*⑅♡</span>\n",
       "\n",
       " <span style=\"color: #fbfbfb; text-decoration-color: #fbfbfb; font-weight: bold\">|</span> <span style=\"color: #a1eebd; text-decoration-color: #a1eebd\">Name          </span> : <span style=\"color: #fbfbfb; text-decoration-color: #fbfbfb\">Bread</span>\n",
       " <span style=\"color: #fbfbfb; text-decoration-color: #fbfbfb; font-weight: bold\">|</span> <span style=\"color: #a1eebd; text-decoration-color: #a1eebd\">Price         </span> : <span style=\"color: #fbfbfb; text-decoration-color: #fbfbfb; font-weight: bold\">178.4</span><span style=\"color: #fbfbfb; text-decoration-color: #fbfbfb\"> ฿</span>\n",
       " <span style=\"color: #fbfbfb; text-decoration-color: #fbfbfb; font-weight: bold\">|</span> <span style=\"color: #a1eebd; text-decoration-color: #a1eebd\">EXD           </span> : <span style=\"color: #fbfbfb; text-decoration-color: #fbfbfb; font-weight: bold\">2021</span><span style=\"color: #fbfbfb; text-decoration-color: #fbfbfb\">-</span><span style=\"color: #fbfbfb; text-decoration-color: #fbfbfb; font-weight: bold\">01</span><span style=\"color: #fbfbfb; text-decoration-color: #fbfbfb\">-</span><span style=\"color: #fbfbfb; text-decoration-color: #fbfbfb; font-weight: bold\">01</span>\n",
       " <span style=\"color: #fbfbfb; text-decoration-color: #fbfbfb; font-weight: bold\">|</span> <span style=\"color: #a1eebd; text-decoration-color: #a1eebd\">Serial number </span> : <span style=\"color: #fbfbfb; text-decoration-color: #fbfbfb; font-weight: bold\">8580</span>\n",
       "\n",
       " <span style=\"color: #fbfbfb; text-decoration-color: #fbfbfb; font-weight: bold\">|</span> <span style=\"color: #a1eebd; text-decoration-color: #a1eebd\">Name          </span> : <span style=\"color: #fbfbfb; text-decoration-color: #fbfbfb\">Bread</span>\n",
       " <span style=\"color: #fbfbfb; text-decoration-color: #fbfbfb; font-weight: bold\">|</span> <span style=\"color: #a1eebd; text-decoration-color: #a1eebd\">Price         </span> : <span style=\"color: #fbfbfb; text-decoration-color: #fbfbfb; font-weight: bold\">128.0</span><span style=\"color: #fbfbfb; text-decoration-color: #fbfbfb\"> ฿</span>\n",
       " <span style=\"color: #fbfbfb; text-decoration-color: #fbfbfb; font-weight: bold\">|</span> <span style=\"color: #a1eebd; text-decoration-color: #a1eebd\">EXD           </span> : <span style=\"color: #fbfbfb; text-decoration-color: #fbfbfb; font-weight: bold\">2023</span><span style=\"color: #fbfbfb; text-decoration-color: #fbfbfb\">-</span><span style=\"color: #fbfbfb; text-decoration-color: #fbfbfb; font-weight: bold\">01</span><span style=\"color: #fbfbfb; text-decoration-color: #fbfbfb\">-</span><span style=\"color: #fbfbfb; text-decoration-color: #fbfbfb; font-weight: bold\">01</span>\n",
       " <span style=\"color: #fbfbfb; text-decoration-color: #fbfbfb; font-weight: bold\">|</span> <span style=\"color: #a1eebd; text-decoration-color: #a1eebd\">Serial number </span> : <span style=\"color: #fbfbfb; text-decoration-color: #fbfbfb; font-weight: bold\">7143</span>\n",
       "\n",
       "</pre>\n"
      ],
      "text/plain": [
       " \u001b[1;38;2;251;251;251m/\u001b[0m\u001b[1;38;2;251;251;251m)\u001b[0m\u001b[1;38;2;251;251;251m/\u001b[0m\u001b[1;38;2;251;251;251m)\u001b[0m\n",
       "\u001b[1;38;2;251;251;251m(\u001b[0m\u001b[1;38;2;251;251;251m . .\u001b[0m\u001b[1;38;2;251;251;251m)\u001b[0m\n",
       "\u001b[1;38;2;251;251;251m(\u001b[0m\u001b[1;38;2;251;251;251m づ\u001b[0m \u001b[38;2;183;177;242m♡⑅*˖•.\u001b[0m \u001b[1;38;2;253;183;234mGrocery\u001b[0m \u001b[38;2;183;177;242m.•˖*⑅♡\u001b[0m\n",
       "\n",
       " \u001b[1;38;2;251;251;251m|\u001b[0m \u001b[38;2;161;238;189mName          \u001b[0m : \u001b[38;2;251;251;251mBread\u001b[0m\n",
       " \u001b[1;38;2;251;251;251m|\u001b[0m \u001b[38;2;161;238;189mPrice         \u001b[0m : \u001b[1;38;2;251;251;251m178.4\u001b[0m\u001b[38;2;251;251;251m ฿\u001b[0m\n",
       " \u001b[1;38;2;251;251;251m|\u001b[0m \u001b[38;2;161;238;189mEXD           \u001b[0m : \u001b[1;38;2;251;251;251m2021\u001b[0m\u001b[38;2;251;251;251m-\u001b[0m\u001b[1;38;2;251;251;251m01\u001b[0m\u001b[38;2;251;251;251m-\u001b[0m\u001b[1;38;2;251;251;251m01\u001b[0m\n",
       " \u001b[1;38;2;251;251;251m|\u001b[0m \u001b[38;2;161;238;189mSerial number \u001b[0m : \u001b[1;38;2;251;251;251m8580\u001b[0m\n",
       "\n",
       " \u001b[1;38;2;251;251;251m|\u001b[0m \u001b[38;2;161;238;189mName          \u001b[0m : \u001b[38;2;251;251;251mBread\u001b[0m\n",
       " \u001b[1;38;2;251;251;251m|\u001b[0m \u001b[38;2;161;238;189mPrice         \u001b[0m : \u001b[1;38;2;251;251;251m128.0\u001b[0m\u001b[38;2;251;251;251m ฿\u001b[0m\n",
       " \u001b[1;38;2;251;251;251m|\u001b[0m \u001b[38;2;161;238;189mEXD           \u001b[0m : \u001b[1;38;2;251;251;251m2023\u001b[0m\u001b[38;2;251;251;251m-\u001b[0m\u001b[1;38;2;251;251;251m01\u001b[0m\u001b[38;2;251;251;251m-\u001b[0m\u001b[1;38;2;251;251;251m01\u001b[0m\n",
       " \u001b[1;38;2;251;251;251m|\u001b[0m \u001b[38;2;161;238;189mSerial number \u001b[0m : \u001b[1;38;2;251;251;251m7143\u001b[0m\n",
       "\n"
      ]
     },
     "metadata": {},
     "output_type": "display_data"
    }
   ],
   "source": [
    "store = Store()\n",
    "\n",
    "electronics = [\n",
    "    {\"name\": \"iPhone 14\", \"category\": \"Smartphone\", \"brand\": \"Apple\"},\n",
    "    {\"name\": \"Samsung Galaxy S22\", \"category\": \"Smartphone\", \"brand\": \"Samsung\"},\n",
    "    {\"name\": \"MacBook Air\", \"category\": \"Laptop\", \"brand\": \"Apple\"},\n",
    "    {\"name\": \"Sony PlayStation 5\", \"category\": \"Console\", \"brand\": \"Sony\"},\n",
    "    {\"name\": \"Dell XPS 13\", \"category\": \"Laptop\", \"brand\": \"Dell\"}\n",
    "]\n",
    "\n",
    "# Clothing products\n",
    "clothing = [\n",
    "    {\"name\": \"Nike T-Shirt\", \"category\": \"Shirt\", \"brand\": \"Nike\", \"size\": \"M\"},\n",
    "    {\"name\": \"Adidas Hoodie\", \"category\": \"Hoodie\", \"brand\": \"Adidas\", \"size\": \"L\"},\n",
    "    {\"name\": \"Levi's Jeans\", \"category\": \"Pants\", \"brand\": \"Levi's\", \"size\": \"32\"},\n",
    "    {\"name\": \"Zara Jacket\", \"category\": \"Jacket\", \"brand\": \"Zara\", \"size\": \"M\"},\n",
    "    {\"name\": \"Uniqlo Shorts\", \"category\": \"Shorts\", \"brand\": \"Uniqlo\", \"size\": \"L\"}\n",
    "]\n",
    "\n",
    "# Grocery products\n",
    "grocery = [\n",
    "    {\"name\": \"Milk\", \"category\": \"Dairy\", \"brand\": \"Dutch Mill\"},\n",
    "    {\"name\": \"Bread\", \"category\": \"Bakery\", \"brand\": \"Koh Kae\"},\n",
    "    {\"name\": \"Eggs\", \"category\": \"Poultry\", \"brand\": \"CP\"},\n",
    "    {\"name\": \"Rice\", \"category\": \"Grains\", \"brand\": \"Golden Phoenix\"},\n",
    "    {\"name\": \"Coca-Cola\", \"category\": \"Beverages\", \"brand\": \"Coca-Cola\"}\n",
    "]\n",
    "\n",
    "# Random dates for products (in real-world situations, this would be based on release dates)\n",
    "dates = [\"01-01-2021\", \"01-06-2020\", \"01-01-2023\", \"01-12-2022\", \"15-08-2021\"]\n",
    "\n",
    "# Function to simulate adding products to the store\n",
    "def add_random_products():\n",
    "    # Add 10 random Electronics products\n",
    "    for _ in range(2):\n",
    "        s = random.randint(1000, 9999)\n",
    "        product = random.choice(electronics)\n",
    "        price = random.randint(1000, 100000)  # Random price range for electronics\n",
    "        date = random.choice(dates)\n",
    "        p = Electronics(s, product[\"name\"], price, product[\"category\"], date)\n",
    "        store.add_product(p)\n",
    "\n",
    "    # Add 10 random Clothing products\n",
    "    for _ in range(2):\n",
    "        s = random.randint(1000, 9999)\n",
    "        product = random.choice(clothing)\n",
    "        price = random.randint(100, 5000)  # Random price range for clothing\n",
    "        size = product[\"size\"]\n",
    "        p = Clothing(s, product[\"name\"], price, size, product[\"brand\"])\n",
    "        store.add_product(p)\n",
    "\n",
    "    # Add 10 random Grocery products\n",
    "    for _ in range(2):\n",
    "        s = random.randint(1000, 9999)\n",
    "        product = random.choice(grocery)\n",
    "        price = random.randint(10, 500)  # Random price range for grocery items\n",
    "        date = random.choice(dates)\n",
    "        p = Grocery(s, product[\"name\"], price, date)\n",
    "        store.add_product(p)\n",
    "\n",
    "# Run the function to add the products to the store\n",
    "add_random_products()\n",
    "\n",
    "\n",
    "store.show_products()\n",
    "store.discount(\"XXX\")\n",
    "store.show_products()"
   ]
  }
 ],
 "metadata": {
  "kernelspec": {
   "display_name": "env",
   "language": "python",
   "name": "python3"
  },
  "language_info": {
   "codemirror_mode": {
    "name": "ipython",
    "version": 3
   },
   "file_extension": ".py",
   "mimetype": "text/x-python",
   "name": "python",
   "nbconvert_exporter": "python",
   "pygments_lexer": "ipython3",
   "version": "3.13.1"
  }
 },
 "nbformat": 4,
 "nbformat_minor": 2
}
